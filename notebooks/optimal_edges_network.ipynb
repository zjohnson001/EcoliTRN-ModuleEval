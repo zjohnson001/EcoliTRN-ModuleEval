{
 "cells": [
  {
   "cell_type": "code",
   "execution_count": null,
   "metadata": {},
   "outputs": [],
   "source": [
    "import os \n",
    "import sys\n",
    "\n",
    "import networkx as nx\n",
    "import numpy as np\n",
    "import pandas as pd\n",
    "\n",
    "sys.path.append(\"../src/modeval\")\n",
    "from modulescomparison import ModulesComparison\n",
    "from modulecontainers import Modules "
   ]
  },
  {
   "cell_type": "code",
   "execution_count": null,
   "metadata": {},
   "outputs": [],
   "source": [
    "#ModulesA = Modules(Real_network)\n",
    "#Modules_genes = Modules(all_genes)\n",
    "\n",
    "# directed_list = [] \n",
    "\n",
    "#for i in range(100, 10000, 100):\n",
    "    #ModulesB1 Get i edges from the non-directed network\n",
    "    #ModuleB2 = Get i edges from the tf directed network\n",
    "    \n",
    "    #Get the sets\n",
    "    #ModulesB = Modules(known_modules)\n",
    "    #undirect_comp = ModulesComparison(ModulesA, ModulesB1, all_genes).score(baseline=None)\n",
    "    #direct_comp = ModulesComparison(ModulesA, ModulesB2, all_genes).score(baseline=None)\n",
    "    \n",
    "    #directed_list.append)((i, direct_comp['precision'] ....))\n",
    "\n",
    "#pd.DataFrame(directed_list, columns=['edges', 'precision'...])"
   ]
  }
 ],
 "metadata": {
  "language_info": {
   "name": "python"
  },
  "orig_nbformat": 4
 },
 "nbformat": 4,
 "nbformat_minor": 2
}
