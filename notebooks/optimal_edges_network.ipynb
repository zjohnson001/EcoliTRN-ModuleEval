{
 "cells": [
  {
   "cell_type": "code",
   "execution_count": null,
   "metadata": {},
   "outputs": [],
   "source": [
    "import os \n",
    "import sys\n",
    "\n",
    "import networkx as nx\n",
    "import numpy as np\n",
    "import pandas as pd\n",
    "\n",
    "sys.path.append(\"../src/modeval\")\n",
    "from modulescomparison import ModulesComparison\n",
    "from modulecontainers import Modules \n",
    "from modeval import ebcubed"
   ]
  },
  {
   "cell_type": "code",
   "execution_count": null,
   "metadata": {},
   "outputs": [],
   "source": [
    "sys.path.insert(0,os.path.abspath(\"../src/modeval/\"))"
   ]
  },
  {
   "cell_type": "code",
   "execution_count": null,
   "metadata": {},
   "outputs": [],
   "source": [
    "## Get the known RegulonDB network with modification described in inspect_input_elements.ipynb\n",
    "known_trn = pd.read_csv(\"../data/Regulatory/QCd_Network.csv\", index_col=0)\n",
    "known_trn.head()"
   ]
  },
  {
   "cell_type": "code",
   "execution_count": null,
   "metadata": {},
   "outputs": [],
   "source": [
    "## Load the annotation E Coli \n",
    "annotation = pd.read_csv(\"../data/Annotation/gene_info.csv\")\n",
    "annotation.head()"
   ]
  },
  {
   "cell_type": "code",
   "execution_count": null,
   "metadata": {},
   "outputs": [],
   "source": [
    "# Define the set of all known genes (E)\n",
    "all_genes = annotation.locus_tag.values \n",
    "\n",
    "# Define a set of all known regulators\n",
    "known_regulators = known_trn['RegulatorGeneName'].unique()\n",
    "\n",
    "# Map gene names to locus tags for comparable output with GENIE3 ouput\n",
    "annotation_map = annotation[annotation.gene_name.notna()].set_index(\"gene_name\")[\"locus_tag\"].to_dict()\n",
    "known_trn['targets_tags'] = known_trn[\"regulatedName\"].map(annotation_map)"
   ]
  },
  {
   "cell_type": "code",
   "execution_count": null,
   "metadata": {},
   "outputs": [],
   "source": [
    "# Iterate over regulators and gene targets to load a graph from edges\n",
    "known_ecoli_trn = nx.Graph() \n",
    "for i in known_trn[['RegulatorGeneName', 'targets_tags']].itertuples():\n",
    "    known_ecoli_trn.add_edges_from([tuple([i[1], i[2]])]) \n",
    "    \n",
    "edges_ecoli_trn = known_ecoli_trn.edges\n",
    "\n",
    "# Find the neighbors of the regulators to define gene targets \n",
    "known_modules = []\n",
    "for reg in known_regulators:\n",
    "    known_modules.append(list(known_ecoli_trn.neighbors(reg)))"
   ]
  },
  {
   "cell_type": "code",
   "execution_count": null,
   "metadata": {},
   "outputs": [],
   "source": [
    "## Load the results from GENIE3 undirected run w/o regulator input\n",
    "genie3_undirected = pd.read_csv(\"../data/predicted_results/GENIE3_5_ET_Ksqrt_nTrees1000_nRegs0_2024-06-11.csv\", index_col=0)\n",
    "genie3_undirected.head()\n",
    "\n",
    "## Load the results from GENIE3 directed run w/o regulator input\n",
    "genie3_directed = pd.read_csv(\"../data/predicted_results/GENIE3_4_RF_Ksqrt_nTrees1000_nRegs106_2024-06-26.csv\", index_col=0)\n",
    "genie3_directed.head()"
   ]
  },
  {
   "cell_type": "code",
   "execution_count": null,
   "metadata": {},
   "outputs": [],
   "source": []
  },
  {
   "cell_type": "code",
   "execution_count": null,
   "metadata": {},
   "outputs": [],
   "source": [
    "#ModulesA = Modules(Real_network)\n",
    "#Modules_genes = Modules(all_genes)\n",
    "\n",
    "# directed_list = [] \n",
    "\n",
    "#for i in range(100, 10000, 100):\n",
    "    #ModulesB1 Get i edges from the non-directed network\n",
    "    #ModuleB2 = Get i edges from the tf directed network\n",
    "    \n",
    "    #Get the sets\n",
    "    #ModulesB = Modules(known_modules)\n",
    "    #undirect_comp = ModulesComparison(ModulesA, ModulesB1, all_genes).score(baseline=None)\n",
    "    #direct_comp = ModulesComparison(ModulesA, ModulesB2, all_genes).score(baseline=None)\n",
    "    \n",
    "    #directed_list.append)((i, direct_comp['precision'] ....))\n",
    "\n",
    "#pd.DataFrame(directed_list, columns=['edges', 'precision'...])"
   ]
  }
 ],
 "metadata": {
  "language_info": {
   "name": "python"
  },
  "orig_nbformat": 4
 },
 "nbformat": 4,
 "nbformat_minor": 2
}
