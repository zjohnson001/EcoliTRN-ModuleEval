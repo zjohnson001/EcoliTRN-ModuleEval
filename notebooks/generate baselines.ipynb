{
 "cells": [
  {
   "cell_type": "code",
   "execution_count": 1,
   "metadata": {},
   "outputs": [
    {
     "name": "stderr",
     "output_type": "stream",
     "text": [
      "WARNING: pip is being invoked by an old script wrapper. This will fail in a future version of pip.\n",
      "Please see https://github.com/pypa/pip/issues/5599 for advice on fixing the underlying issue.\n",
      "To avoid this problem you can invoke Python with '-m pip' instead of running pip directly.\n"
     ]
    },
    {
     "data": {
      "text/html": [
       "<pre style=\"white-space:pre;overflow-x:auto;line-height:normal;font-family:Menlo,'DejaVu Sans Mono',consolas,'Courier New',monospace\">Collecting git+https://github.com/jfrelinger/cython-munkres-wrapper\n",
       "</pre>\n"
      ],
      "text/plain": [
       "Collecting git+https://github.com/jfrelinger/cython-munkres-wrapper\n"
      ]
     },
     "metadata": {},
     "output_type": "display_data"
    },
    {
     "data": {
      "text/html": [
       "<pre style=\"white-space:pre;overflow-x:auto;line-height:normal;font-family:Menlo,'DejaVu Sans Mono',consolas,'Courier New',monospace\">  Cloning https://github.com/jfrelinger/cython-munkres-wrapper to /tmp/pip-req-build-epulhx5b\n",
       "</pre>\n"
      ],
      "text/plain": [
       "  Cloning https://github.com/jfrelinger/cython-munkres-wrapper to /tmp/pip-req-build-epulhx5b\n"
      ]
     },
     "metadata": {},
     "output_type": "display_data"
    },
    {
     "data": {
      "text/html": [
       "<pre style=\"white-space:pre;overflow-x:auto;line-height:normal;font-family:Menlo,'DejaVu Sans Mono',consolas,'Courier New',monospace\">  Running command git clone --filter=blob:none --quiet https://github.com/jfrelinger/cython-munkres-wrapper /tmp/pip-req-build-epulhx5b\n",
       "</pre>\n"
      ],
      "text/plain": [
       "  Running command git clone --filter=blob:none --quiet https://github.com/jfrelinger/cython-munkres-wrapper /tmp/pip-req-build-epulhx5b\n"
      ]
     },
     "metadata": {},
     "output_type": "display_data"
    },
    {
     "data": {
      "text/html": [
       "<pre style=\"white-space:pre;overflow-x:auto;line-height:normal;font-family:Menlo,'DejaVu Sans Mono',consolas,'Courier New',monospace\">  Resolved https://github.com/jfrelinger/cython-munkres-wrapper to commit 38588d619373cfc7487dc92f323e46608550df2c\n",
       "</pre>\n"
      ],
      "text/plain": [
       "  Resolved https://github.com/jfrelinger/cython-munkres-wrapper to commit 38588d619373cfc7487dc92f323e46608550df2c\n"
      ]
     },
     "metadata": {},
     "output_type": "display_data"
    },
    {
     "data": {
      "text/html": [
       "<pre style=\"white-space:pre;overflow-x:auto;line-height:normal;font-family:Menlo,'DejaVu Sans Mono',consolas,'Courier New',monospace\">  Preparing metadata (setup.py): started\n",
       "</pre>\n"
      ],
      "text/plain": [
       "  Preparing metadata (setup.py): started\n"
      ]
     },
     "metadata": {},
     "output_type": "display_data"
    },
    {
     "data": {
      "text/html": [
       "<pre style=\"white-space:pre;overflow-x:auto;line-height:normal;font-family:Menlo,'DejaVu Sans Mono',consolas,'Courier New',monospace\">  Preparing metadata (setup.py): finished with status 'done'\n",
       "</pre>\n"
      ],
      "text/plain": [
       "  Preparing metadata (setup.py): finished with status 'done'\n"
      ]
     },
     "metadata": {},
     "output_type": "display_data"
    }
   ],
   "source": [
    "import sys\n",
    "import os\n",
    "sys.path.append(\"/mnt/c/Users/bach484/Documents/EcoliTRN-ModuleEval/src/modeval/\")\n",
    "\n",
    "import json\n",
    "import shutil\n",
    "\n",
    "from util import JSONExtendedEncoder\n",
    "\n",
    "from clustering import *\n",
    "\n",
    "import pandas as pd\n",
    "import numpy as np\n",
    "\n",
    "import time\n",
    "\n",
    "import traceback\n",
    "from modulecontainers import Modules\n",
    "\n",
    "%load_ext autoreload\n",
    "%autoreload 2\n",
    "\n",
    "%matplotlib inline\n",
    "from matplotlib.pyplot import *\n",
    "\n",
    "import multiprocessing as mp\n",
    "\n",
    "from collections import OrderedDict\n",
    "\n",
    "from itertools import product\n",
    "from collections import defaultdict\n",
    "\n",
    "import itertools\n",
    "import shutil\n",
    "\n",
    "conf_folder = \"conf/\"\n",
    "\n",
    "import os\n",
    "\n",
    "from modulescomparison import ModevalKnownmodules, ModevalCoverage"
   ]
  },
  {
   "cell_type": "code",
   "execution_count": 2,
   "metadata": {},
   "outputs": [],
   "source": [
    "settings = []\n",
    "settings.append({\n",
    "    \"dataset_location\":\"conf/ecoli_dataset.json\", \n",
    "    \"dataset_name\":\"ecoli_precise2\",\n",
    "    \"method_location\":\"conf/baseline_permuted.json\", \n",
    "    \"regnet_name\":\"ecoli_regulondb\",\n",
    "    \"knownmodules_name\":\"minimal\",\n",
    "    \"output_folder\":\"results/baseline_permuted/\",\n",
    "    \"settingid\": 1\n",
    "    }\n",
    ")"
   ]
  },
  {
   "cell_type": "code",
   "execution_count": 18,
   "metadata": {},
   "outputs": [
    {
     "name": "stdout",
     "output_type": "stream",
     "text": [
      "Collecting git+https://github.com/jfrelinger/cython-munkres-wrapper\n",
      "  Cloning https://github.com/jfrelinger/cython-munkres-wrapper to /tmp/pip-req-build-4nrdg4mp\n"
     ]
    },
    {
     "name": "stderr",
     "output_type": "stream",
     "text": [
      "WARNING: pip is being invoked by an old script wrapper. This will fail in a future version of pip.\n",
      "Please see https://github.com/pypa/pip/issues/5599 for advice on fixing the underlying issue.\n",
      "To avoid this problem you can invoke Python with '-m pip' instead of running pip directly.\n",
      "  Running command git clone --filter=blob:none --quiet https://github.com/jfrelinger/cython-munkres-wrapper /tmp/pip-req-build-4nrdg4mp\n"
     ]
    },
    {
     "name": "stdout",
     "output_type": "stream",
     "text": [
      "  Resolved https://github.com/jfrelinger/cython-munkres-wrapper to commit 38588d619373cfc7487dc92f323e46608550df2c\n",
      "  Preparing metadata (setup.py): started\n",
      "  Preparing metadata (setup.py): finished with status 'done'\n"
     ]
    }
   ],
   "source": [
    "method_path = \"../conf/baseline_permuted.json\"\n",
    "dataset_path = \"../conf/ecoli_dataset.json\"\n",
    "output_folder = \"../results/baseline_permuted/\"\n",
    "\n",
    "# Load the method and dataset JSON files\n",
    "with open(method_path, \"r\") as file:\n",
    "    method = json.load(file)\n",
    "\n",
    "with open(dataset_path, \"r\") as file:\n",
    "    dataset = json.load(file)\n",
    "\n",
    "knownmodules = json.load(open(dataset[\"knownmodules\"][\"ecoli_regulondb\"][\"minimal\"]))\n",
    "\n",
    "starttime = time.time()\n",
    "\n",
    "try:\n",
    "\tmodules = locals()[method[\"params\"][\"method\"]](knownmodules, **method[\"params\"])\n",
    "except BaseException as e:\n",
    "\tprint(\"Error during clustering: \")\n",
    "\tprint(e)\n",
    "\ttraceback.print_exc()\n",
    "\tmodules = []\n",
    "\n",
    "endtime = time.time()\n",
    "\n",
    "if os.path.exists(output_folder):\n",
    "\tshutil.rmtree(output_folder)\n",
    "os.makedirs(output_folder)\n",
    "json.dump(modules, open(output_folder + \"modules.json\", \"w\"), cls=JSONExtendedEncoder)\n",
    "json.dump({\"runningtime\":endtime-starttime}, open(output_folder + \"runinfo.json\", \"w\"), cls=JSONExtendedEncoder)\n",
    "json.dump(method[\"params\"], open(output_folder + \"method.json\", \"w\"))\n"
   ]
  },
  {
   "cell_type": "code",
   "execution_count": 19,
   "metadata": {},
   "outputs": [],
   "source": [
    "# create pool of processors\n",
    "if \"pool\" in locals().keys():\n",
    "    pool.close()\n",
    "pool = mp.Pool(mp.cpu_count()-1)"
   ]
  },
  {
   "cell_type": "code",
   "execution_count": 20,
   "metadata": {},
   "outputs": [],
   "source": [
    "modeval = ModevalKnownmodules(settings, baseline = False)\n",
    "modeval.run(pool)"
   ]
  },
  {
   "cell_type": "code",
   "execution_count": 26,
   "metadata": {},
   "outputs": [
    {
     "name": "stdout",
     "output_type": "stream",
     "text": [
      "NumExpr defaulting to 8 threads.\n"
     ]
    }
   ],
   "source": [
    "scores = []\n",
    "for setting in settings:\n",
    "    score = modeval.scores.loc[\n",
    "        (modeval.scores[\"settingid\"] == setting[\"settingid\"]) &\n",
    "        (modeval.scores[\"knownmodules_name\"] == setting[\"knownmodules_name\"]) &\n",
    "        (modeval.scores[\"regnet_name\"] == setting[\"regnet_name\"])\n",
    "    ]\n",
    "    \n",
    "scores.append(score)\n",
    "scores = pd.concat(scores)\n",
    "scores[\"baseline_name\"] = \"permuted\"\n",
    "baseline = scores.groupby([\"baseline_name\", \"regnet_name\", \"knownmodules_name\"]).mean()"
   ]
  },
  {
   "cell_type": "code",
   "execution_count": 27,
   "metadata": {},
   "outputs": [
    {
     "data": {
      "text/html": [
       "<div>\n",
       "<style scoped>\n",
       "    .dataframe tbody tr th:only-of-type {\n",
       "        vertical-align: middle;\n",
       "    }\n",
       "\n",
       "    .dataframe tbody tr th {\n",
       "        vertical-align: top;\n",
       "    }\n",
       "\n",
       "    .dataframe thead th {\n",
       "        text-align: right;\n",
       "    }\n",
       "</style>\n",
       "<table border=\"1\" class=\"dataframe\">\n",
       "  <thead>\n",
       "    <tr style=\"text-align: right;\">\n",
       "      <th></th>\n",
       "      <th>recovery</th>\n",
       "      <th>relevance</th>\n",
       "      <th>F1rr</th>\n",
       "      <th>recall</th>\n",
       "      <th>precision</th>\n",
       "      <th>F1rp</th>\n",
       "      <th>F1rprr</th>\n",
       "      <th>settingid</th>\n",
       "      <th>knownmodules_name</th>\n",
       "      <th>regnet_name</th>\n",
       "      <th>goldstandard</th>\n",
       "      <th>runningtime</th>\n",
       "      <th>baseline_name</th>\n",
       "    </tr>\n",
       "  </thead>\n",
       "  <tbody>\n",
       "    <tr>\n",
       "      <th>0</th>\n",
       "      <td>0.066481</td>\n",
       "      <td>0.067078</td>\n",
       "      <td>0.066778</td>\n",
       "      <td>0.018968</td>\n",
       "      <td>0.019032</td>\n",
       "      <td>0.019</td>\n",
       "      <td>0.029583</td>\n",
       "      <td>1</td>\n",
       "      <td>minimal</td>\n",
       "      <td>ecoli_regulondb</td>\n",
       "      <td>ecoli_regulondb#minimal</td>\n",
       "      <td>0.012276</td>\n",
       "      <td>permuted</td>\n",
       "    </tr>\n",
       "  </tbody>\n",
       "</table>\n",
       "</div>"
      ],
      "text/plain": [
       "   recovery  relevance      F1rr    recall  precision   F1rp    F1rprr  \\\n",
       "0  0.066481   0.067078  0.066778  0.018968   0.019032  0.019  0.029583   \n",
       "\n",
       "   settingid knownmodules_name      regnet_name             goldstandard  \\\n",
       "0          1           minimal  ecoli_regulondb  ecoli_regulondb#minimal   \n",
       "\n",
       "   runningtime baseline_name  \n",
       "0     0.012276      permuted  "
      ]
     },
     "execution_count": 27,
     "metadata": {},
     "output_type": "execute_result"
    }
   ],
   "source": [
    "scores"
   ]
  }
 ],
 "metadata": {
  "kernelspec": {
   "display_name": "project",
   "language": "python",
   "name": "python3"
  },
  "language_info": {
   "codemirror_mode": {
    "name": "ipython",
    "version": 3
   },
   "file_extension": ".py",
   "mimetype": "text/x-python",
   "name": "python",
   "nbconvert_exporter": "python",
   "pygments_lexer": "ipython3",
   "version": "3.8.19"
  }
 },
 "nbformat": 4,
 "nbformat_minor": 2
}
