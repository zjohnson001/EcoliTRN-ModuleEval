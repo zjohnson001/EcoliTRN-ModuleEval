{
 "cells": [
  {
   "cell_type": "code",
   "execution_count": 1,
   "metadata": {},
   "outputs": [],
   "source": [
    "import pandas as pd"
   ]
  },
  {
   "cell_type": "markdown",
   "metadata": {},
   "source": [
    "## Loaded the genome annotation for E. Coli"
   ]
  },
  {
   "cell_type": "code",
   "execution_count": 3,
   "metadata": {},
   "outputs": [
    {
     "data": {
      "text/html": [
       "<div>\n",
       "<style scoped>\n",
       "    .dataframe tbody tr th:only-of-type {\n",
       "        vertical-align: middle;\n",
       "    }\n",
       "\n",
       "    .dataframe tbody tr th {\n",
       "        vertical-align: top;\n",
       "    }\n",
       "\n",
       "    .dataframe thead th {\n",
       "        text-align: right;\n",
       "    }\n",
       "</style>\n",
       "<table border=\"1\" class=\"dataframe\">\n",
       "  <thead>\n",
       "    <tr style=\"text-align: right;\">\n",
       "      <th></th>\n",
       "      <th>locus_tag</th>\n",
       "      <th>gene_name</th>\n",
       "      <th>old_locus_tag</th>\n",
       "      <th>start</th>\n",
       "      <th>end</th>\n",
       "      <th>strand</th>\n",
       "      <th>gene_product</th>\n",
       "      <th>COG</th>\n",
       "      <th>uniprot</th>\n",
       "    </tr>\n",
       "  </thead>\n",
       "  <tbody>\n",
       "    <tr>\n",
       "      <th>0</th>\n",
       "      <td>b0001</td>\n",
       "      <td>thrL</td>\n",
       "      <td>NaN</td>\n",
       "      <td>190</td>\n",
       "      <td>255</td>\n",
       "      <td>+</td>\n",
       "      <td>thr operon leader peptide</td>\n",
       "      <td>No COG annotation</td>\n",
       "      <td>P0AD86</td>\n",
       "    </tr>\n",
       "    <tr>\n",
       "      <th>1</th>\n",
       "      <td>b0002</td>\n",
       "      <td>thrA</td>\n",
       "      <td>NaN</td>\n",
       "      <td>337</td>\n",
       "      <td>2799</td>\n",
       "      <td>+</td>\n",
       "      <td>fused aspartate kinase/homoserine dehydrogenase 1</td>\n",
       "      <td>Amino acid transport and metabolism</td>\n",
       "      <td>P00561</td>\n",
       "    </tr>\n",
       "    <tr>\n",
       "      <th>2</th>\n",
       "      <td>b0003</td>\n",
       "      <td>thrB</td>\n",
       "      <td>NaN</td>\n",
       "      <td>2801</td>\n",
       "      <td>3733</td>\n",
       "      <td>+</td>\n",
       "      <td>homoserine kinase</td>\n",
       "      <td>Nucleotide transport and metabolism</td>\n",
       "      <td>P00547</td>\n",
       "    </tr>\n",
       "    <tr>\n",
       "      <th>3</th>\n",
       "      <td>b0004</td>\n",
       "      <td>thrC</td>\n",
       "      <td>NaN</td>\n",
       "      <td>3734</td>\n",
       "      <td>5020</td>\n",
       "      <td>+</td>\n",
       "      <td>threonine synthase</td>\n",
       "      <td>Amino acid transport and metabolism</td>\n",
       "      <td>P00934</td>\n",
       "    </tr>\n",
       "    <tr>\n",
       "      <th>4</th>\n",
       "      <td>b0005</td>\n",
       "      <td>yaaX</td>\n",
       "      <td>NaN</td>\n",
       "      <td>5234</td>\n",
       "      <td>5530</td>\n",
       "      <td>+</td>\n",
       "      <td>DUF2502 domain-containing protein YaaX</td>\n",
       "      <td>Function unknown</td>\n",
       "      <td>P75616</td>\n",
       "    </tr>\n",
       "  </tbody>\n",
       "</table>\n",
       "</div>"
      ],
      "text/plain": [
       "  locus_tag gene_name  old_locus_tag  start   end strand  \\\n",
       "0     b0001      thrL            NaN    190   255      +   \n",
       "1     b0002      thrA            NaN    337  2799      +   \n",
       "2     b0003      thrB            NaN   2801  3733      +   \n",
       "3     b0004      thrC            NaN   3734  5020      +   \n",
       "4     b0005      yaaX            NaN   5234  5530      +   \n",
       "\n",
       "                                        gene_product  \\\n",
       "0                          thr operon leader peptide   \n",
       "1  fused aspartate kinase/homoserine dehydrogenase 1   \n",
       "2                                  homoserine kinase   \n",
       "3                                 threonine synthase   \n",
       "4             DUF2502 domain-containing protein YaaX   \n",
       "\n",
       "                                   COG uniprot  \n",
       "0                    No COG annotation  P0AD86  \n",
       "1  Amino acid transport and metabolism  P00561  \n",
       "2  Nucleotide transport and metabolism  P00547  \n",
       "3  Amino acid transport and metabolism  P00934  \n",
       "4                     Function unknown  P75616  "
      ]
     },
     "execution_count": 3,
     "metadata": {},
     "output_type": "execute_result"
    }
   ],
   "source": [
    "annotation = pd.read_csv(\"../data/Annotation/gene_info.csv\")\n",
    "annotation.head()"
   ]
  }
 ],
 "metadata": {
  "kernelspec": {
   "display_name": "network_analy",
   "language": "python",
   "name": "python3"
  },
  "language_info": {
   "codemirror_mode": {
    "name": "ipython",
    "version": 3
   },
   "file_extension": ".py",
   "mimetype": "text/x-python",
   "name": "python",
   "nbconvert_exporter": "python",
   "pygments_lexer": "ipython3",
   "version": "3.10.4"
  },
  "orig_nbformat": 4
 },
 "nbformat": 4,
 "nbformat_minor": 2
}
