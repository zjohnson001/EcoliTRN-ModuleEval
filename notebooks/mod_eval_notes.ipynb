{
 "cells": [
  {
   "cell_type": "markdown",
   "metadata": {},
   "source": [
    "G represents all genes  \n",
    "M a set of known modules  \n",
    "M' a set of observed modules  \n",
    "M(g) the modules that contain a gene g  \n",
    "E(g, M) the set of genes that are together with g in at least one module M\n",
    "\n",
    "Precision is define as:  \n",
    "\n",
    "$ {\\mathrm{Precision}} = \\frac{1}{{\\left| G \\right|}}\\mathop {\\sum}\\limits_{g \\in G} {\\frac{1}{{\\left| {E\\left( {g,M\\prime } \\right)} \\right|}}}$\n",
    "\n",
    "$ \\mathop {\\sum}\\limits_{g{\\prime} \\in E\\left( {g,M{\\prime}} \\right)}{\\frac{{\\mathrm{min}\\left( {\\left| {M\\prime (g) \\cap M\\prime (g\\prime )\\left| , \\right|M(g) \\cap M(g\\prime )} \\right|} \\right) \\cdot {\\mathrm{\\Phi (}}g,g\\prime {\\mathrm{)}}}}{{\\left| {M\\prime (g) \\cap M\\prime (g\\prime )} \\right|}}} $\n",
    "\n",
    "Where\n",
    "\n",
    "$ {\\mathrm{\\Phi }}\\left( {g,g\\prime } \\right) = \\frac{1}{{\\left| {M\\prime \\left( {g,g\\prime } \\right)} \\right|}}\\mathop {\\sum}\\limits_{m\\prime \\in M\\prime \\left( {g,g\\prime } \\right)} {\\mathop {{{\\it{\\mathrm{max}}}}}\\limits_{m \\in M\\left( {g,g\\prime } \\right)} \\,{\\mathrm{Jaccard}}\\left( {m\\prime ,m} \\right)} $\n",
    "\n",
    "Recall is calculated the same way but with M' and M switched\n",
    "\n",
    "The recovery and relevance score assess whether an observed module can be matched with a known module.  \n",
    "\n",
    "Relevance can be defined as:\n",
    "\n",
    "$ {\\mathrm{Relevance}} = \\frac{1}{{\\left| {M\\prime } \\right|}}\\mathop {\\sum}\\limits_{m\\prime \\in M\\prime } {\\mathop {{\\mathrm{max}}}\\limits_{m \\in M} \\,{\\mathrm{Jaccard}}\\left( {m\\prime ,m} \\right)} $ \n",
    "\n",
    "And Recovery is the inverse (M' and M switched)"
   ]
  }
 ],
 "metadata": {
  "kernelspec": {
   "display_name": "mod_eval",
   "language": "python",
   "name": "python3"
  },
  "language_info": {
   "codemirror_mode": {
    "name": "ipython",
    "version": 3
   },
   "file_extension": ".py",
   "mimetype": "text/x-python",
   "name": "python",
   "nbconvert_exporter": "python",
   "pygments_lexer": "ipython3",
   "version": "3.12.4"
  },
  "orig_nbformat": 4
 },
 "nbformat": 4,
 "nbformat_minor": 2
}
