{
 "cells": [
  {
   "cell_type": "code",
   "execution_count": 1,
   "metadata": {},
   "outputs": [],
   "source": [
    "\n",
    "import os \n",
    "import sys\n",
    "\n",
    "import networkx as nx\n",
    "import pandas as pd\n",
    "\n",
    "sys.path.append(\"../src/modeval\")\n",
    "from modulescomparison import ModulesComparison\n",
    "from modulecontainers import Modules "
   ]
  },
  {
   "cell_type": "code",
   "execution_count": 2,
   "metadata": {},
   "outputs": [],
   "source": [
    "from modeval import ebcubed"
   ]
  },
  {
   "cell_type": "code",
   "execution_count": 3,
   "metadata": {},
   "outputs": [],
   "source": [
    "sys.path.insert(0,os.path.abspath(\"../src/modeval/\"))\n"
   ]
  },
  {
   "cell_type": "code",
   "execution_count": 4,
   "metadata": {},
   "outputs": [
    {
     "data": {
      "text/html": [
       "<div>\n",
       "<style scoped>\n",
       "    .dataframe tbody tr th:only-of-type {\n",
       "        vertical-align: middle;\n",
       "    }\n",
       "\n",
       "    .dataframe tbody tr th {\n",
       "        vertical-align: top;\n",
       "    }\n",
       "\n",
       "    .dataframe thead th {\n",
       "        text-align: right;\n",
       "    }\n",
       "</style>\n",
       "<table border=\"1\" class=\"dataframe\">\n",
       "  <thead>\n",
       "    <tr style=\"text-align: right;\">\n",
       "      <th></th>\n",
       "      <th>regulatorId</th>\n",
       "      <th>regulatorName</th>\n",
       "      <th>RegulatorGeneName</th>\n",
       "      <th>regulatedId</th>\n",
       "      <th>regulatedName</th>\n",
       "      <th>function</th>\n",
       "      <th>confidenceLevel</th>\n",
       "    </tr>\n",
       "  </thead>\n",
       "  <tbody>\n",
       "    <tr>\n",
       "      <th>313</th>\n",
       "      <td>RDBECOLIPDC00358</td>\n",
       "      <td>DsrA</td>\n",
       "      <td>dsrA</td>\n",
       "      <td>RDBECOLIGNC00450</td>\n",
       "      <td>hns</td>\n",
       "      <td>-</td>\n",
       "      <td>S</td>\n",
       "    </tr>\n",
       "    <tr>\n",
       "      <th>315</th>\n",
       "      <td>RDBECOLIPDC00358</td>\n",
       "      <td>DsrA</td>\n",
       "      <td>dsrA</td>\n",
       "      <td>RDBECOLIGNC00539</td>\n",
       "      <td>lrp</td>\n",
       "      <td>-</td>\n",
       "      <td>S</td>\n",
       "    </tr>\n",
       "    <tr>\n",
       "      <th>316</th>\n",
       "      <td>RDBECOLIPDC00358</td>\n",
       "      <td>DsrA</td>\n",
       "      <td>dsrA</td>\n",
       "      <td>RDBECOLIGNC00804</td>\n",
       "      <td>rbsA</td>\n",
       "      <td>-</td>\n",
       "      <td>S</td>\n",
       "    </tr>\n",
       "    <tr>\n",
       "      <th>317</th>\n",
       "      <td>RDBECOLIPDC00358</td>\n",
       "      <td>DsrA</td>\n",
       "      <td>dsrA</td>\n",
       "      <td>RDBECOLIGNC00805</td>\n",
       "      <td>rbsB</td>\n",
       "      <td>-</td>\n",
       "      <td>S</td>\n",
       "    </tr>\n",
       "    <tr>\n",
       "      <th>318</th>\n",
       "      <td>RDBECOLIPDC00358</td>\n",
       "      <td>DsrA</td>\n",
       "      <td>dsrA</td>\n",
       "      <td>RDBECOLIGNC00806</td>\n",
       "      <td>rbsC</td>\n",
       "      <td>-</td>\n",
       "      <td>S</td>\n",
       "    </tr>\n",
       "  </tbody>\n",
       "</table>\n",
       "</div>"
      ],
      "text/plain": [
       "          regulatorId regulatorName RegulatorGeneName       regulatedId  \\\n",
       "313  RDBECOLIPDC00358          DsrA              dsrA  RDBECOLIGNC00450   \n",
       "315  RDBECOLIPDC00358          DsrA              dsrA  RDBECOLIGNC00539   \n",
       "316  RDBECOLIPDC00358          DsrA              dsrA  RDBECOLIGNC00804   \n",
       "317  RDBECOLIPDC00358          DsrA              dsrA  RDBECOLIGNC00805   \n",
       "318  RDBECOLIPDC00358          DsrA              dsrA  RDBECOLIGNC00806   \n",
       "\n",
       "    regulatedName function confidenceLevel  \n",
       "313           hns        -              S   \n",
       "315           lrp        -              S   \n",
       "316          rbsA        -              S   \n",
       "317          rbsB        -              S   \n",
       "318          rbsC        -              S   "
      ]
     },
     "execution_count": 4,
     "metadata": {},
     "output_type": "execute_result"
    }
   ],
   "source": [
    "## Get the known RegulonDB network with modification described in inspect_input_elements.ipynb\n",
    "known_trn = pd.read_csv(\"../data/Regulatory/QCd_Network.csv\", index_col=0)\n",
    "known_trn.head()"
   ]
  },
  {
   "cell_type": "code",
   "execution_count": 5,
   "metadata": {},
   "outputs": [
    {
     "data": {
      "text/html": [
       "<div>\n",
       "<style scoped>\n",
       "    .dataframe tbody tr th:only-of-type {\n",
       "        vertical-align: middle;\n",
       "    }\n",
       "\n",
       "    .dataframe tbody tr th {\n",
       "        vertical-align: top;\n",
       "    }\n",
       "\n",
       "    .dataframe thead th {\n",
       "        text-align: right;\n",
       "    }\n",
       "</style>\n",
       "<table border=\"1\" class=\"dataframe\">\n",
       "  <thead>\n",
       "    <tr style=\"text-align: right;\">\n",
       "      <th></th>\n",
       "      <th>locus_tag</th>\n",
       "      <th>gene_name</th>\n",
       "      <th>old_locus_tag</th>\n",
       "      <th>start</th>\n",
       "      <th>end</th>\n",
       "      <th>strand</th>\n",
       "      <th>gene_product</th>\n",
       "      <th>COG</th>\n",
       "      <th>uniprot</th>\n",
       "    </tr>\n",
       "  </thead>\n",
       "  <tbody>\n",
       "    <tr>\n",
       "      <th>0</th>\n",
       "      <td>b0001</td>\n",
       "      <td>thrL</td>\n",
       "      <td>NaN</td>\n",
       "      <td>190</td>\n",
       "      <td>255</td>\n",
       "      <td>+</td>\n",
       "      <td>thr operon leader peptide</td>\n",
       "      <td>No COG annotation</td>\n",
       "      <td>P0AD86</td>\n",
       "    </tr>\n",
       "    <tr>\n",
       "      <th>1</th>\n",
       "      <td>b0002</td>\n",
       "      <td>thrA</td>\n",
       "      <td>NaN</td>\n",
       "      <td>337</td>\n",
       "      <td>2799</td>\n",
       "      <td>+</td>\n",
       "      <td>fused aspartate kinase/homoserine dehydrogenase 1</td>\n",
       "      <td>Amino acid transport and metabolism</td>\n",
       "      <td>P00561</td>\n",
       "    </tr>\n",
       "    <tr>\n",
       "      <th>2</th>\n",
       "      <td>b0003</td>\n",
       "      <td>thrB</td>\n",
       "      <td>NaN</td>\n",
       "      <td>2801</td>\n",
       "      <td>3733</td>\n",
       "      <td>+</td>\n",
       "      <td>homoserine kinase</td>\n",
       "      <td>Nucleotide transport and metabolism</td>\n",
       "      <td>P00547</td>\n",
       "    </tr>\n",
       "    <tr>\n",
       "      <th>3</th>\n",
       "      <td>b0004</td>\n",
       "      <td>thrC</td>\n",
       "      <td>NaN</td>\n",
       "      <td>3734</td>\n",
       "      <td>5020</td>\n",
       "      <td>+</td>\n",
       "      <td>threonine synthase</td>\n",
       "      <td>Amino acid transport and metabolism</td>\n",
       "      <td>P00934</td>\n",
       "    </tr>\n",
       "    <tr>\n",
       "      <th>4</th>\n",
       "      <td>b0005</td>\n",
       "      <td>yaaX</td>\n",
       "      <td>NaN</td>\n",
       "      <td>5234</td>\n",
       "      <td>5530</td>\n",
       "      <td>+</td>\n",
       "      <td>DUF2502 domain-containing protein YaaX</td>\n",
       "      <td>Function unknown</td>\n",
       "      <td>P75616</td>\n",
       "    </tr>\n",
       "  </tbody>\n",
       "</table>\n",
       "</div>"
      ],
      "text/plain": [
       "  locus_tag gene_name  old_locus_tag  start   end strand  \\\n",
       "0     b0001      thrL            NaN    190   255      +   \n",
       "1     b0002      thrA            NaN    337  2799      +   \n",
       "2     b0003      thrB            NaN   2801  3733      +   \n",
       "3     b0004      thrC            NaN   3734  5020      +   \n",
       "4     b0005      yaaX            NaN   5234  5530      +   \n",
       "\n",
       "                                        gene_product  \\\n",
       "0                          thr operon leader peptide   \n",
       "1  fused aspartate kinase/homoserine dehydrogenase 1   \n",
       "2                                  homoserine kinase   \n",
       "3                                 threonine synthase   \n",
       "4             DUF2502 domain-containing protein YaaX   \n",
       "\n",
       "                                   COG uniprot  \n",
       "0                    No COG annotation  P0AD86  \n",
       "1  Amino acid transport and metabolism  P00561  \n",
       "2  Nucleotide transport and metabolism  P00547  \n",
       "3  Amino acid transport and metabolism  P00934  \n",
       "4                     Function unknown  P75616  "
      ]
     },
     "execution_count": 5,
     "metadata": {},
     "output_type": "execute_result"
    }
   ],
   "source": [
    "## Load the annotation E Coli \n",
    "annotation = pd.read_csv(\"../data/Annotation/gene_info.csv\")\n",
    "annotation.head()"
   ]
  },
  {
   "cell_type": "code",
   "execution_count": 6,
   "metadata": {},
   "outputs": [],
   "source": [
    "# Define the set of all known genes (E)\n",
    "all_genes = annotation.locus_tag.values \n",
    "\n",
    "# Define a set of all known regulators\n",
    "known_regulators = known_trn['RegulatorGeneName'].unique()\n",
    "\n",
    "# Map gene names to locus tags for comparable output with GENIE3 ouput\n",
    "annotation_map = annotation[annotation.gene_name.notna()].set_index(\"gene_name\")[\"locus_tag\"].to_dict()\n",
    "known_trn['targets_tags'] = known_trn[\"regulatedName\"].map(annotation_map)"
   ]
  },
  {
   "cell_type": "code",
   "execution_count": 7,
   "metadata": {},
   "outputs": [],
   "source": [
    "\n",
    "# Iterate over regulators and gene targets to load a graph from edges\n",
    "known_ecoli_trn = nx.Graph() \n",
    "for i in known_trn[['RegulatorGeneName', 'targets_tags']].itertuples():\n",
    "    known_ecoli_trn.add_edges_from([tuple([i[1], i[2]])]) \n",
    "    \n",
    "edges_ecoli_trn = known_ecoli_trn.edges\n",
    "\n",
    "# Find the neighbors of the regulators to define gene targets \n",
    "known_modules = []\n",
    "for reg in known_regulators:\n",
    "    known_modules.append(list(known_ecoli_trn.neighbors(reg)))"
   ]
  },
  {
   "cell_type": "code",
   "execution_count": 8,
   "metadata": {},
   "outputs": [
    {
     "data": {
      "text/html": [
       "<div>\n",
       "<style scoped>\n",
       "    .dataframe tbody tr th:only-of-type {\n",
       "        vertical-align: middle;\n",
       "    }\n",
       "\n",
       "    .dataframe tbody tr th {\n",
       "        vertical-align: top;\n",
       "    }\n",
       "\n",
       "    .dataframe thead th {\n",
       "        text-align: right;\n",
       "    }\n",
       "</style>\n",
       "<table border=\"1\" class=\"dataframe\">\n",
       "  <thead>\n",
       "    <tr style=\"text-align: right;\">\n",
       "      <th></th>\n",
       "      <th>regulatoryGene</th>\n",
       "      <th>targetGene</th>\n",
       "      <th>weight</th>\n",
       "    </tr>\n",
       "  </thead>\n",
       "  <tbody>\n",
       "    <tr>\n",
       "      <th>1</th>\n",
       "      <td>b0573</td>\n",
       "      <td>b0574</td>\n",
       "      <td>0.041188</td>\n",
       "    </tr>\n",
       "    <tr>\n",
       "      <th>2</th>\n",
       "      <td>b0575</td>\n",
       "      <td>b0574</td>\n",
       "      <td>0.039607</td>\n",
       "    </tr>\n",
       "    <tr>\n",
       "      <th>3</th>\n",
       "      <td>b0574</td>\n",
       "      <td>b0575</td>\n",
       "      <td>0.039262</td>\n",
       "    </tr>\n",
       "    <tr>\n",
       "      <th>4</th>\n",
       "      <td>b2000</td>\n",
       "      <td>b2001</td>\n",
       "      <td>0.038284</td>\n",
       "    </tr>\n",
       "    <tr>\n",
       "      <th>5</th>\n",
       "      <td>b1973</td>\n",
       "      <td>b0296</td>\n",
       "      <td>0.035970</td>\n",
       "    </tr>\n",
       "  </tbody>\n",
       "</table>\n",
       "</div>"
      ],
      "text/plain": [
       "  regulatoryGene targetGene    weight\n",
       "1          b0573      b0574  0.041188\n",
       "2          b0575      b0574  0.039607\n",
       "3          b0574      b0575  0.039262\n",
       "4          b2000      b2001  0.038284\n",
       "5          b1973      b0296  0.035970"
      ]
     },
     "execution_count": 8,
     "metadata": {},
     "output_type": "execute_result"
    }
   ],
   "source": [
    "## Load the results from GENIE3 run w/o regulator input\n",
    "genie3_res = pd.read_csv(\"../data/predicted_results/GENIE3_5_ET_Ksqrt_nTrees1000_nRegs0_2024-06-11.csv\", index_col=0)\n",
    "genie3_res.head()"
   ]
  },
  {
   "cell_type": "code",
   "execution_count": 9,
   "metadata": {},
   "outputs": [],
   "source": [
    "ecoli_trn = nx.Graph()\n",
    "ecoli_trn.add_edges_from([tuple(val) for val in genie3_res[['regulatoryGene', 'targetGene']].head(2000).values])\n"
   ]
  },
  {
   "cell_type": "code",
   "execution_count": 10,
   "metadata": {},
   "outputs": [],
   "source": [
    "regulator_ids = annotation[annotation['gene_name'].isin(known_regulators)]['locus_tag'].values\n",
    "\n",
    "modules = []\n",
    "for reg in regulator_ids:\n",
    "    if reg in ecoli_trn.nodes:\n",
    "        module = list(ecoli_trn.neighbors(reg))\n",
    "        modules.append(module)\n"
   ]
  },
  {
   "cell_type": "code",
   "execution_count": 11,
   "metadata": {},
   "outputs": [
    {
     "data": {
      "text/plain": [
       "12"
      ]
     },
     "execution_count": 11,
     "metadata": {},
     "output_type": "execute_result"
    }
   ],
   "source": [
    "modules_as_sets = [set(module) for module in modules]\n",
    "len(modules_as_sets)"
   ]
  },
  {
   "cell_type": "code",
   "execution_count": 13,
   "metadata": {},
   "outputs": [],
   "source": [
    "#regulator_modules = [[gene] for gene in regulator_ids]\n",
    "#regulator_modules"
   ]
  },
  {
   "cell_type": "code",
   "execution_count": 15,
   "metadata": {},
   "outputs": [],
   "source": [
    "ModulesA = Modules(modules_as_sets)\n",
    "ModulesB = Modules(known_modules)\n",
    "Modules_genes = Modules(all_genes)"
   ]
  },
  {
   "cell_type": "code",
   "execution_count": 18,
   "metadata": {},
   "outputs": [],
   "source": [
    "ModComp = ModulesComparison(ModulesA, ModulesB, all_genes)"
   ]
  },
  {
   "cell_type": "code",
   "execution_count": 20,
   "metadata": {},
   "outputs": [
    {
     "name": "stdout",
     "output_type": "stream",
     "text": [
      "M0      5\n",
      "M1      1\n",
      "M2      2\n",
      "M3      4\n",
      "M4     12\n",
      "M5      1\n",
      "M6      1\n",
      "M7      2\n",
      "M8      5\n",
      "M9      2\n",
      "M10     1\n",
      "M11     6\n",
      "dtype: uint64\n",
      "M0       8\n",
      "M1      12\n",
      "M2      22\n",
      "M3       8\n",
      "M4       6\n",
      "        ..\n",
      "M124    37\n",
      "M125    11\n",
      "M126     9\n",
      "M127     8\n",
      "M128    34\n",
      "Length: 129, dtype: uint64\n"
     ]
    }
   ],
   "source": [
    "print(ModComp.membershipsA.sum(axis = 0))\n",
    "print(ModComp.membershipsB.sum(axis = 0))"
   ]
  },
  {
   "cell_type": "code",
   "execution_count": 21,
   "metadata": {},
   "outputs": [],
   "source": [
    "scores = ModComp.score(baselines=None)"
   ]
  },
  {
   "cell_type": "code",
   "execution_count": 22,
   "metadata": {},
   "outputs": [
    {
     "data": {
      "text/plain": [
       "{'recoveries': array([0.625     , 0.16666667, 0.25      , 0.23529412, 0.25      ,\n",
       "        0.        , 0.05882353, 0.07142857, 0.26315789, 0.25      ,\n",
       "        0.025     , 0.71428571]),\n",
       " 'relevances': array([0.        , 0.        , 0.        , 0.        , 0.16666667,\n",
       "        0.        , 0.        , 0.        , 0.125     , 0.1       ,\n",
       "        0.1       , 0.08333333, 0.        , 0.        , 0.08333333,\n",
       "        0.06666667, 0.        , 0.        , 0.        , 0.        ,\n",
       "        0.        , 0.0952381 , 0.        , 0.125     , 0.        ,\n",
       "        0.16129032, 0.03846154, 0.        , 0.        , 0.        ,\n",
       "        0.1       , 0.        , 0.        , 0.        , 0.        ,\n",
       "        0.        , 0.02173913, 0.        , 0.05882353, 0.07142857,\n",
       "        0.        , 0.25      , 0.01030928, 0.        , 0.07142857,\n",
       "        0.01639344, 0.        , 0.        , 0.08333333, 0.        ,\n",
       "        0.        , 0.        , 0.        , 0.625     , 0.02439024,\n",
       "        0.03225806, 0.        , 0.15789474, 0.        , 0.        ,\n",
       "        0.01694915, 0.        , 0.        , 0.        , 0.        ,\n",
       "        0.        , 0.25      , 0.        , 0.0070922 , 0.        ,\n",
       "        0.        , 0.05882353, 0.        , 0.        , 0.        ,\n",
       "        0.        , 0.        , 0.        , 0.05555556, 0.        ,\n",
       "        0.625     , 0.        , 0.16666667, 0.        , 0.        ,\n",
       "        0.00196078, 0.        , 0.        , 0.04347826, 0.        ,\n",
       "        0.        , 0.025     , 0.        , 0.        , 0.        ,\n",
       "        0.71428571, 0.        , 0.        , 0.        , 0.06896552,\n",
       "        0.06666667, 0.01515152, 0.        , 0.        , 0.18181818,\n",
       "        0.        , 0.23529412, 0.23529412, 0.        , 0.        ,\n",
       "        0.        , 0.26315789, 0.        , 0.01025641, 0.04761905,\n",
       "        0.        , 0.        , 0.10638298, 0.25      , 0.        ,\n",
       "        0.00632911, 0.        , 0.        , 0.        , 0.        ,\n",
       "        0.        , 0.        , 0.        , 0.        ]),\n",
       " 'recovery': 0.24247137451471815,\n",
       " 'relevance': 0.047439816141162654,\n",
       " 'F1rr': 0.07935393870412424,\n",
       " 'recalls': array([0., 0., 0., ..., 0., 0., 0.]),\n",
       " 'precisions': array([0., 0., 0., ..., 0., 0., 0.]),\n",
       " 'recall': 0.002928014640504821,\n",
       " 'precision': 0.00034142339685374544,\n",
       " 'F1rp': 0.0006115379421023208,\n",
       " 'F1rprr': 0.0012137223814102983}"
      ]
     },
     "execution_count": 22,
     "metadata": {},
     "output_type": "execute_result"
    }
   ],
   "source": [
    "scores"
   ]
  },
  {
   "cell_type": "markdown",
   "metadata": {},
   "source": [
    "Based on the recoveries and relevances, it seems that our observed modules map onto the known modules with not a particularly high degree of accuracy, but not a particualrly low degree of accuracy either, whereas the known modules map fairly poorly onto the observed modules. This would indicate that a small but nonetheless statistically significant portion of the observed modules are contained within the known modules, while the known modules are not well predicted by the observed model."
   ]
  },
  {
   "cell_type": "markdown",
   "metadata": {},
   "source": [
    "The recall and precision values are fairly low as well, indicating that a low number of genes from the observed modules were actually contained within the known modules and an even lower number of genes from the known modules were contaied within the observed modules. This leads to a low F1rp value, as both recall and precision were quite low. "
   ]
  },
  {
   "cell_type": "markdown",
   "metadata": {},
   "source": [
    "With a low F1rp value and fairly low recoveries and relevences, it is no surprise that the overall harmonic mean, f1rprr, is also quite low. This is strong evidence that the observed modules represent a poor predictive model. "
   ]
  }
 ],
 "metadata": {
  "kernelspec": {
   "display_name": "network_analy",
   "language": "python",
   "name": "python3"
  },
  "language_info": {
   "codemirror_mode": {
    "name": "ipython",
    "version": 3
   },
   "file_extension": ".py",
   "mimetype": "text/x-python",
   "name": "python",
   "nbconvert_exporter": "python",
   "pygments_lexer": "ipython3",
   "version": "3.12.4"
  },
  "orig_nbformat": 4
 },
 "nbformat": 4,
 "nbformat_minor": 2
}
