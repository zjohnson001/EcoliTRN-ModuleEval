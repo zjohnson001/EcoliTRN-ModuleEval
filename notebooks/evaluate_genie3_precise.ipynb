{
 "cells": [
  {
   "cell_type": "code",
   "execution_count": 1,
   "metadata": {},
   "outputs": [],
   "source": [
    "\n",
    "import os \n",
    "import sys\n",
    "\n",
    "import networkx as nx\n",
    "import numpy as np\n",
    "import pandas as pd\n",
    "\n",
    "sys.path.append(\"../src/modeval\")\n",
    "from modulescomparison import ModulesComparison\n",
    "from modulecontainers import Modules "
   ]
  },
  {
   "cell_type": "code",
   "execution_count": 25,
   "metadata": {},
   "outputs": [],
   "source": [
    "from modeval import ebcubed"
   ]
  },
  {
   "cell_type": "code",
   "execution_count": 2,
   "metadata": {},
   "outputs": [],
   "source": [
    "sys.path.insert(0,os.path.abspath(\"../src/modeval/\"))\n"
   ]
  },
  {
   "cell_type": "code",
   "execution_count": 3,
   "metadata": {},
   "outputs": [
    {
     "data": {
      "text/html": [
       "<div>\n",
       "<style scoped>\n",
       "    .dataframe tbody tr th:only-of-type {\n",
       "        vertical-align: middle;\n",
       "    }\n",
       "\n",
       "    .dataframe tbody tr th {\n",
       "        vertical-align: top;\n",
       "    }\n",
       "\n",
       "    .dataframe thead th {\n",
       "        text-align: right;\n",
       "    }\n",
       "</style>\n",
       "<table border=\"1\" class=\"dataframe\">\n",
       "  <thead>\n",
       "    <tr style=\"text-align: right;\">\n",
       "      <th></th>\n",
       "      <th>regulatorId</th>\n",
       "      <th>regulatorName</th>\n",
       "      <th>RegulatorGeneName</th>\n",
       "      <th>regulatedId</th>\n",
       "      <th>regulatedName</th>\n",
       "      <th>function</th>\n",
       "      <th>confidenceLevel</th>\n",
       "    </tr>\n",
       "  </thead>\n",
       "  <tbody>\n",
       "    <tr>\n",
       "      <th>313</th>\n",
       "      <td>RDBECOLIPDC00358</td>\n",
       "      <td>DsrA</td>\n",
       "      <td>dsrA</td>\n",
       "      <td>RDBECOLIGNC00450</td>\n",
       "      <td>hns</td>\n",
       "      <td>-</td>\n",
       "      <td>S</td>\n",
       "    </tr>\n",
       "    <tr>\n",
       "      <th>315</th>\n",
       "      <td>RDBECOLIPDC00358</td>\n",
       "      <td>DsrA</td>\n",
       "      <td>dsrA</td>\n",
       "      <td>RDBECOLIGNC00539</td>\n",
       "      <td>lrp</td>\n",
       "      <td>-</td>\n",
       "      <td>S</td>\n",
       "    </tr>\n",
       "    <tr>\n",
       "      <th>316</th>\n",
       "      <td>RDBECOLIPDC00358</td>\n",
       "      <td>DsrA</td>\n",
       "      <td>dsrA</td>\n",
       "      <td>RDBECOLIGNC00804</td>\n",
       "      <td>rbsA</td>\n",
       "      <td>-</td>\n",
       "      <td>S</td>\n",
       "    </tr>\n",
       "    <tr>\n",
       "      <th>317</th>\n",
       "      <td>RDBECOLIPDC00358</td>\n",
       "      <td>DsrA</td>\n",
       "      <td>dsrA</td>\n",
       "      <td>RDBECOLIGNC00805</td>\n",
       "      <td>rbsB</td>\n",
       "      <td>-</td>\n",
       "      <td>S</td>\n",
       "    </tr>\n",
       "    <tr>\n",
       "      <th>318</th>\n",
       "      <td>RDBECOLIPDC00358</td>\n",
       "      <td>DsrA</td>\n",
       "      <td>dsrA</td>\n",
       "      <td>RDBECOLIGNC00806</td>\n",
       "      <td>rbsC</td>\n",
       "      <td>-</td>\n",
       "      <td>S</td>\n",
       "    </tr>\n",
       "  </tbody>\n",
       "</table>\n",
       "</div>"
      ],
      "text/plain": [
       "          regulatorId regulatorName RegulatorGeneName       regulatedId  \\\n",
       "313  RDBECOLIPDC00358          DsrA              dsrA  RDBECOLIGNC00450   \n",
       "315  RDBECOLIPDC00358          DsrA              dsrA  RDBECOLIGNC00539   \n",
       "316  RDBECOLIPDC00358          DsrA              dsrA  RDBECOLIGNC00804   \n",
       "317  RDBECOLIPDC00358          DsrA              dsrA  RDBECOLIGNC00805   \n",
       "318  RDBECOLIPDC00358          DsrA              dsrA  RDBECOLIGNC00806   \n",
       "\n",
       "    regulatedName function confidenceLevel  \n",
       "313           hns        -              S   \n",
       "315           lrp        -              S   \n",
       "316          rbsA        -              S   \n",
       "317          rbsB        -              S   \n",
       "318          rbsC        -              S   "
      ]
     },
     "execution_count": 3,
     "metadata": {},
     "output_type": "execute_result"
    }
   ],
   "source": [
    "## Get the known RegulonDB network with modification described in inspect_input_elements.ipynb\n",
    "known_trn = pd.read_csv(\"../data/Regulatory/QCd_Network.csv\", index_col=0)\n",
    "known_trn.head()"
   ]
  },
  {
   "cell_type": "code",
   "execution_count": 4,
   "metadata": {},
   "outputs": [
    {
     "data": {
      "text/html": [
       "<div>\n",
       "<style scoped>\n",
       "    .dataframe tbody tr th:only-of-type {\n",
       "        vertical-align: middle;\n",
       "    }\n",
       "\n",
       "    .dataframe tbody tr th {\n",
       "        vertical-align: top;\n",
       "    }\n",
       "\n",
       "    .dataframe thead th {\n",
       "        text-align: right;\n",
       "    }\n",
       "</style>\n",
       "<table border=\"1\" class=\"dataframe\">\n",
       "  <thead>\n",
       "    <tr style=\"text-align: right;\">\n",
       "      <th></th>\n",
       "      <th>locus_tag</th>\n",
       "      <th>gene_name</th>\n",
       "      <th>old_locus_tag</th>\n",
       "      <th>start</th>\n",
       "      <th>end</th>\n",
       "      <th>strand</th>\n",
       "      <th>gene_product</th>\n",
       "      <th>COG</th>\n",
       "      <th>uniprot</th>\n",
       "    </tr>\n",
       "  </thead>\n",
       "  <tbody>\n",
       "    <tr>\n",
       "      <th>0</th>\n",
       "      <td>b0001</td>\n",
       "      <td>thrL</td>\n",
       "      <td>NaN</td>\n",
       "      <td>190</td>\n",
       "      <td>255</td>\n",
       "      <td>+</td>\n",
       "      <td>thr operon leader peptide</td>\n",
       "      <td>No COG annotation</td>\n",
       "      <td>P0AD86</td>\n",
       "    </tr>\n",
       "    <tr>\n",
       "      <th>1</th>\n",
       "      <td>b0002</td>\n",
       "      <td>thrA</td>\n",
       "      <td>NaN</td>\n",
       "      <td>337</td>\n",
       "      <td>2799</td>\n",
       "      <td>+</td>\n",
       "      <td>fused aspartate kinase/homoserine dehydrogenase 1</td>\n",
       "      <td>Amino acid transport and metabolism</td>\n",
       "      <td>P00561</td>\n",
       "    </tr>\n",
       "    <tr>\n",
       "      <th>2</th>\n",
       "      <td>b0003</td>\n",
       "      <td>thrB</td>\n",
       "      <td>NaN</td>\n",
       "      <td>2801</td>\n",
       "      <td>3733</td>\n",
       "      <td>+</td>\n",
       "      <td>homoserine kinase</td>\n",
       "      <td>Nucleotide transport and metabolism</td>\n",
       "      <td>P00547</td>\n",
       "    </tr>\n",
       "    <tr>\n",
       "      <th>3</th>\n",
       "      <td>b0004</td>\n",
       "      <td>thrC</td>\n",
       "      <td>NaN</td>\n",
       "      <td>3734</td>\n",
       "      <td>5020</td>\n",
       "      <td>+</td>\n",
       "      <td>threonine synthase</td>\n",
       "      <td>Amino acid transport and metabolism</td>\n",
       "      <td>P00934</td>\n",
       "    </tr>\n",
       "    <tr>\n",
       "      <th>4</th>\n",
       "      <td>b0005</td>\n",
       "      <td>yaaX</td>\n",
       "      <td>NaN</td>\n",
       "      <td>5234</td>\n",
       "      <td>5530</td>\n",
       "      <td>+</td>\n",
       "      <td>DUF2502 domain-containing protein YaaX</td>\n",
       "      <td>Function unknown</td>\n",
       "      <td>P75616</td>\n",
       "    </tr>\n",
       "  </tbody>\n",
       "</table>\n",
       "</div>"
      ],
      "text/plain": [
       "  locus_tag gene_name  old_locus_tag  start   end strand  \\\n",
       "0     b0001      thrL            NaN    190   255      +   \n",
       "1     b0002      thrA            NaN    337  2799      +   \n",
       "2     b0003      thrB            NaN   2801  3733      +   \n",
       "3     b0004      thrC            NaN   3734  5020      +   \n",
       "4     b0005      yaaX            NaN   5234  5530      +   \n",
       "\n",
       "                                        gene_product  \\\n",
       "0                          thr operon leader peptide   \n",
       "1  fused aspartate kinase/homoserine dehydrogenase 1   \n",
       "2                                  homoserine kinase   \n",
       "3                                 threonine synthase   \n",
       "4             DUF2502 domain-containing protein YaaX   \n",
       "\n",
       "                                   COG uniprot  \n",
       "0                    No COG annotation  P0AD86  \n",
       "1  Amino acid transport and metabolism  P00561  \n",
       "2  Nucleotide transport and metabolism  P00547  \n",
       "3  Amino acid transport and metabolism  P00934  \n",
       "4                     Function unknown  P75616  "
      ]
     },
     "execution_count": 4,
     "metadata": {},
     "output_type": "execute_result"
    }
   ],
   "source": [
    "## Load the annotation E Coli \n",
    "annotation = pd.read_csv(\"../data/Annotation/gene_info.csv\")\n",
    "annotation.head()"
   ]
  },
  {
   "cell_type": "code",
   "execution_count": 5,
   "metadata": {},
   "outputs": [],
   "source": [
    "# Define the set of all known genes (E)\n",
    "all_genes = annotation.locus_tag.values \n",
    "\n",
    "# Define a set of all known regulators\n",
    "known_regulators = known_trn['RegulatorGeneName'].unique()\n",
    "\n",
    "# Map gene names to locus tags for comparable output with GENIE3 ouput\n",
    "annotation_map = annotation[annotation.gene_name.notna()].set_index(\"gene_name\")[\"locus_tag\"].to_dict()\n",
    "known_trn['targets_tags'] = known_trn[\"regulatedName\"].map(annotation_map)"
   ]
  },
  {
   "cell_type": "code",
   "execution_count": 7,
   "metadata": {},
   "outputs": [],
   "source": [
    "\n",
    "# Iterate over regulators and gene targets to load a graph from edges\n",
    "known_ecoli_trn = nx.Graph() \n",
    "for i in known_trn[['RegulatorGeneName', 'targets_tags']].itertuples():\n",
    "    known_ecoli_trn.add_edges_from([tuple([i[1], i[2]])]) \n",
    "    \n",
    "edges_ecoli_trn = known_ecoli_trn.edges\n",
    "\n",
    "# Find the neighbors of the regulators to define gene targets \n",
    "known_modules = []\n",
    "for reg in known_regulators:\n",
    "    known_modules.append(list(known_ecoli_trn.neighbors(reg)))"
   ]
  },
  {
   "cell_type": "code",
   "execution_count": 8,
   "metadata": {},
   "outputs": [
    {
     "data": {
      "text/html": [
       "<div>\n",
       "<style scoped>\n",
       "    .dataframe tbody tr th:only-of-type {\n",
       "        vertical-align: middle;\n",
       "    }\n",
       "\n",
       "    .dataframe tbody tr th {\n",
       "        vertical-align: top;\n",
       "    }\n",
       "\n",
       "    .dataframe thead th {\n",
       "        text-align: right;\n",
       "    }\n",
       "</style>\n",
       "<table border=\"1\" class=\"dataframe\">\n",
       "  <thead>\n",
       "    <tr style=\"text-align: right;\">\n",
       "      <th></th>\n",
       "      <th>regulatoryGene</th>\n",
       "      <th>targetGene</th>\n",
       "      <th>weight</th>\n",
       "    </tr>\n",
       "  </thead>\n",
       "  <tbody>\n",
       "    <tr>\n",
       "      <th>1</th>\n",
       "      <td>b0573</td>\n",
       "      <td>b0574</td>\n",
       "      <td>0.041188</td>\n",
       "    </tr>\n",
       "    <tr>\n",
       "      <th>2</th>\n",
       "      <td>b0575</td>\n",
       "      <td>b0574</td>\n",
       "      <td>0.039607</td>\n",
       "    </tr>\n",
       "    <tr>\n",
       "      <th>3</th>\n",
       "      <td>b0574</td>\n",
       "      <td>b0575</td>\n",
       "      <td>0.039262</td>\n",
       "    </tr>\n",
       "    <tr>\n",
       "      <th>4</th>\n",
       "      <td>b2000</td>\n",
       "      <td>b2001</td>\n",
       "      <td>0.038284</td>\n",
       "    </tr>\n",
       "    <tr>\n",
       "      <th>5</th>\n",
       "      <td>b1973</td>\n",
       "      <td>b0296</td>\n",
       "      <td>0.035970</td>\n",
       "    </tr>\n",
       "  </tbody>\n",
       "</table>\n",
       "</div>"
      ],
      "text/plain": [
       "  regulatoryGene targetGene    weight\n",
       "1          b0573      b0574  0.041188\n",
       "2          b0575      b0574  0.039607\n",
       "3          b0574      b0575  0.039262\n",
       "4          b2000      b2001  0.038284\n",
       "5          b1973      b0296  0.035970"
      ]
     },
     "execution_count": 8,
     "metadata": {},
     "output_type": "execute_result"
    }
   ],
   "source": [
    "## Load the results from GENIE3 run w/o regulator input\n",
    "genie3_res = pd.read_csv(\"../data/predicted_results/GENIE3_5_ET_Ksqrt_nTrees1000_nRegs0_2024-06-11.csv\", index_col=0)\n",
    "genie3_res.head()"
   ]
  },
  {
   "cell_type": "code",
   "execution_count": 9,
   "metadata": {},
   "outputs": [],
   "source": [
    "# Load the predicted network\n",
    "ecoli_trn = nx.Graph()\n",
    "ecoli_trn.add_edges_from([tuple(val) for val in genie3_res[['regulatoryGene', 'targetGene']].head(2000).values])\n"
   ]
  },
  {
   "cell_type": "code",
   "execution_count": 10,
   "metadata": {},
   "outputs": [
    {
     "name": "stdout",
     "output_type": "stream",
     "text": [
      "There are 12 modules with known regulators and connected targets\n"
     ]
    }
   ],
   "source": [
    "# Filter the network for connections with known regulators\n",
    "# Append neighborhood connected genes to the list of genesets\n",
    "regulator_ids = annotation[annotation['gene_name'].isin(known_regulators)]['locus_tag'].values\n",
    "\n",
    "modules = []\n",
    "for reg in regulator_ids:\n",
    "    if reg in ecoli_trn.nodes:\n",
    "        module = list(ecoli_trn.neighbors(reg))\n",
    "        modules.append(module)\n",
    "\n",
    "# Get the sets \n",
    "modules_as_sets = [set(module) for module in modules]\n",
    "print(f\"There are {len(modules_as_sets)} modules with known regulators and connected targets\")\n"
   ]
  },
  {
   "cell_type": "code",
   "execution_count": 26,
   "metadata": {},
   "outputs": [],
   "source": [
    "path = \"/Users/john002/Library/CloudStorage/OneDrive-PNNL/Desktop/module_eval_ecoli/data/Regulatory\"\n",
    "file = os.path.join(path, \"regulators.csv\")\n",
    "pd.DataFrame(regulator_ids, columns=['regulator']).to_csv(file, index=False)"
   ]
  },
  {
   "cell_type": "code",
   "execution_count": 11,
   "metadata": {},
   "outputs": [],
   "source": [
    "# Load genesets into Module containers\n",
    "# Load module containers into comparison container\n",
    "# A = genie3 predicted\n",
    "# B = known modules\n",
    "# C = All genes\n",
    "\n",
    "ModulesA = Modules(modules_as_sets)\n",
    "ModulesB = Modules(known_modules)\n",
    "Modules_genes = Modules(all_genes)\n",
    "mod_comp = ModulesComparison(ModulesA, ModulesB, all_genes)"
   ]
  },
  {
   "cell_type": "code",
   "execution_count": 37,
   "metadata": {},
   "outputs": [
    {
     "name": "stdout",
     "output_type": "stream",
     "text": [
      "M0      5\n",
      "M1      1\n",
      "M2      2\n",
      "M3      4\n",
      "M4     12\n",
      "M5      1\n",
      "M6      1\n",
      "M7      2\n",
      "M8      5\n",
      "M9      2\n",
      "M10     1\n",
      "M11     6\n",
      "dtype: uint64\n",
      "M0       8\n",
      "M1      12\n",
      "M2      22\n",
      "M3       8\n",
      "M4       6\n",
      "        ..\n",
      "M124    37\n",
      "M125    11\n",
      "M126     9\n",
      "M127     8\n",
      "M128    34\n",
      "Length: 129, dtype: uint64\n"
     ]
    }
   ],
   "source": [
    "# Check the size of modules (Regulator-gene targets)\n",
    "print(mod_comp.membershipsA.sum(axis = 0))\n",
    "print(mod_comp.membershipsB.sum(axis = 0))"
   ]
  },
  {
   "cell_type": "markdown",
   "metadata": {},
   "source": [
    "## Comparison of every predicted module associated with a known regulator to known modules"
   ]
  },
  {
   "cell_type": "code",
   "execution_count": 19,
   "metadata": {},
   "outputs": [
    {
     "name": "stdout",
     "output_type": "stream",
     "text": [
      "Number of predicted modules: 12\n",
      "Number of known modules: 129\n",
      "For the first predicted module, the best overlap with known modules is: 53\n",
      "With a jaccard index score of: 0.625\n"
     ]
    }
   ],
   "source": [
    "print(f\"\\\n",
    "Number of predicted modules: {mod_comp.jaccards.shape[0]}\\n\\\n",
    "Number of known modules: {mod_comp.jaccards.shape[1]}\\n\\\n",
    "For the first predicted module, the best overlap with known modules is: {np.argmax(mod_comp.jaccards[0])}\\n\\\n",
    "With a jaccard index score of: {mod_comp.jaccards[0].max()}\")"
   ]
  },
  {
   "cell_type": "markdown",
   "metadata": {},
   "source": [
    "## Best matches for all predicted modules"
   ]
  },
  {
   "cell_type": "code",
   "execution_count": 58,
   "metadata": {},
   "outputs": [
    {
     "name": "stdout",
     "output_type": "stream",
     "text": [
      "M0, Best match: 53, Jaccard: 0.625\n",
      "M1, Best match: 4, Jaccard: 0.16666666666666666\n",
      "M2, Best match: 118, Jaccard: 0.25\n",
      "M3, Best match: 107, Jaccard: 0.23529411764705882\n",
      "M4, Best match: 41, Jaccard: 0.25\n",
      "M5, Best match: 0, Jaccard: 0.0\n",
      "M6, Best match: 107, Jaccard: 0.058823529411764705\n",
      "M7, Best match: 44, Jaccard: 0.07142857142857142\n",
      "M8, Best match: 111, Jaccard: 0.2631578947368421\n",
      "M9, Best match: 66, Jaccard: 0.25\n",
      "M10, Best match: 91, Jaccard: 0.025\n",
      "M11, Best match: 95, Jaccard: 0.7142857142857143\n"
     ]
    }
   ],
   "source": [
    "max_indices_per_row = np.argmax(mod_comp.jaccards, axis=1)\n",
    "max_jaccard_per_row = np.max(mod_comp.jaccards, axis=1)\n",
    "for i, (idx_match, score) in enumerate(zip(max_indices_per_row, max_jaccard_per_row)):\n",
    "    print(f\"M{i}, Best match: {idx_match}, Jaccard: {score}\")"
   ]
  },
  {
   "cell_type": "markdown",
   "metadata": {},
   "source": [
    "## Compute precision recall scores"
   ]
  },
  {
   "cell_type": "code",
   "execution_count": 22,
   "metadata": {},
   "outputs": [],
   "source": [
    "scores = mod_comp.score(\n",
    "    baselines=None, \n",
    "    scorenames=['rp', 'rr']\n",
    ")"
   ]
  },
  {
   "cell_type": "code",
   "execution_count": 85,
   "metadata": {},
   "outputs": [
    {
     "name": "stdout",
     "output_type": "stream",
     "text": [
      "recoveries: Evaluated on predicted modules (12), non-zero values: 11, average:0.24 \n",
      "\n",
      "relevances: Evaluated on all known modules (129), non-zero matches: 47, average:0.05\n",
      "\n",
      "\n"
     ]
    }
   ],
   "source": [
    "print(f\"recoveries: Evaluated on predicted modules \\\n",
    "({scores['recoveries'].shape[0]}), \\\n",
    "non-zero values: {(scores['recoveries']>0).sum()}, \\\n",
    "average:{scores['recoveries'].mean():.2f} \\n\\\n",
    "\\n\\\n",
    "relevances: Evaluated on all known modules \\\n",
    "({scores['relevances'].shape[0]}), \\\n",
    "non-zero matches: {(scores['relevances']> 0).sum()}, \\\n",
    "average:{scores['relevances'].mean():.2f}\\n\\n\")"
   ]
  },
  {
   "cell_type": "markdown",
   "metadata": {},
   "source": [
    "## Measures of Module Prediction\n",
    "\n",
    "\n",
    "#### Variable definitions\n",
    "G represents all genes  \n",
    "M a set of known modules  \n",
    "M' a set of observed modules  \n",
    "M(g) the modules that contain a gene g  \n",
    "E(g, M) the set of genes that are together with g in at least one module M\n",
    "\n",
    "### Precision/Recall\n",
    "\n",
    "Precision is define as:  \n",
    "\n",
    "$ {\\mathrm{Precision}} = \\frac{1}{{\\left| G \\right|}}\\mathop {\\sum}\\limits_{g \\in G} {\\frac{1}{{\\left| {E\\left( {g,M\\prime } \\right)} \\right|}}} \\mathop {\\sum}\\limits_{g{\\prime} \\in E\\left( {g,M{\\prime}} \\right)}{\\frac{{\\mathrm{min}\\left( {\\left| {M\\prime (g) \\cap M\\prime (g\\prime )\\left| , \\right|M(g) \\cap M(g\\prime )} \\right|} \\right) \\cdot {\\mathrm{\\Phi (}}g,g\\prime {\\mathrm{)}}}}{{\\left| {M\\prime (g) \\cap M\\prime (g\\prime )} \\right|}}} $\n",
    "\n",
    "Where\n",
    "\n",
    "$ {\\mathrm{\\Phi }}\\left( {g,g\\prime } \\right) = \\frac{1}{{\\left| {M\\prime \\left( {g,g\\prime } \\right)} \\right|}}\\mathop {\\sum}\\limits_{m\\prime \\in M\\prime \\left( {g,g\\prime } \\right)} {\\mathop {{{\\it{\\mathrm{max}}}}}\\limits_{m \\in M\\left( {g,g\\prime } \\right)} \\,{\\mathrm{Jaccard}}\\left( {m\\prime ,m} \\right)} $\n",
    "\n",
    "Recall is calculated the same way but with M' and M switched\n",
    "\n",
    "## Recovery Relevance \n",
    "The recovery and relevance score assess whether an observed module can be matched with a known module.  \n",
    "\n",
    "Relevance can be defined as:\n",
    "\n",
    "$ {\\mathrm{Relevance}} = \\frac{1}{{\\left| {M\\prime } \\right|}}\\mathop {\\sum}\\limits_{m\\prime \\in M\\prime } {\\mathop {{\\mathrm{max}}}\\limits_{m \\in M} \\,{\\mathrm{Jaccard}}\\left( {m\\prime ,m} \\right)} $ \n",
    "\n",
    "And Recovery is the inverse (M' and M switched)"
   ]
  },
  {
   "cell_type": "markdown",
   "metadata": {},
   "source": [
    "Based on the recoveries and relevances, it seems that our observed modules map onto the known modules with not a particularly high degree of accuracy, but not a particualrly low degree of accuracy either, whereas the known modules map fairly poorly onto the observed modules. This would indicate that a small but nonetheless statistically significant portion of the observed modules are contained within the known modules, while the known modules are not well predicted by the observed model."
   ]
  },
  {
   "cell_type": "markdown",
   "metadata": {},
   "source": [
    "The recall and precision values are fairly low as well, indicating that a low number of genes from the observed modules were actually contained within the known modules and an even lower number of genes from the known modules were contaied within the observed modules. This leads to a low F1rp value, as both recall and precision were quite low. "
   ]
  },
  {
   "cell_type": "markdown",
   "metadata": {},
   "source": [
    "With a low F1rp value and fairly low recoveries and relevences, it is no surprise that the overall harmonic mean, f1rprr, is also quite low. This is strong evidence that the observed modules represent a poor predictive model. "
   ]
  }
 ],
 "metadata": {
  "kernelspec": {
   "display_name": "network_analy",
   "language": "python",
   "name": "python3"
  },
  "language_info": {
   "codemirror_mode": {
    "name": "ipython",
    "version": 3
   },
   "file_extension": ".py",
   "mimetype": "text/x-python",
   "name": "python",
   "nbconvert_exporter": "python",
   "pygments_lexer": "ipython3",
   "version": "3.9.19"
  },
  "orig_nbformat": 4
 },
 "nbformat": 4,
 "nbformat_minor": 2
}
