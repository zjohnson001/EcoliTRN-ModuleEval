{
 "cells": [
  {
   "cell_type": "code",
   "execution_count": 1,
   "metadata": {},
   "outputs": [],
   "source": [
    "import networkx as nx\n",
    "import pandas as pd"
   ]
  },
  {
   "cell_type": "code",
   "execution_count": 14,
   "metadata": {},
   "outputs": [],
   "source": [
    "genie3_res = pd.read_csv(\"../data/Model_predictions/GENIE3_5_ET_Ksqrt_nTrees1000_nRegs0_2024-06-11.csv\", index_col=0)"
   ]
  },
  {
   "cell_type": "code",
   "execution_count": 17,
   "metadata": {},
   "outputs": [
    {
     "data": {
      "text/html": [
       "<div>\n",
       "<style scoped>\n",
       "    .dataframe tbody tr th:only-of-type {\n",
       "        vertical-align: middle;\n",
       "    }\n",
       "\n",
       "    .dataframe tbody tr th {\n",
       "        vertical-align: top;\n",
       "    }\n",
       "\n",
       "    .dataframe thead th {\n",
       "        text-align: right;\n",
       "    }\n",
       "</style>\n",
       "<table border=\"1\" class=\"dataframe\">\n",
       "  <thead>\n",
       "    <tr style=\"text-align: right;\">\n",
       "      <th></th>\n",
       "      <th>regulatorId</th>\n",
       "      <th>regulatorName</th>\n",
       "      <th>RegulatorGeneName</th>\n",
       "      <th>regulatedId</th>\n",
       "      <th>regulatedName</th>\n",
       "      <th>function</th>\n",
       "      <th>confidenceLevel</th>\n",
       "    </tr>\n",
       "  </thead>\n",
       "  <tbody>\n",
       "    <tr>\n",
       "      <th>313</th>\n",
       "      <td>RDBECOLIPDC00358</td>\n",
       "      <td>DsrA</td>\n",
       "      <td>dsrA</td>\n",
       "      <td>RDBECOLIGNC00450</td>\n",
       "      <td>hns</td>\n",
       "      <td>-</td>\n",
       "      <td>S</td>\n",
       "    </tr>\n",
       "    <tr>\n",
       "      <th>315</th>\n",
       "      <td>RDBECOLIPDC00358</td>\n",
       "      <td>DsrA</td>\n",
       "      <td>dsrA</td>\n",
       "      <td>RDBECOLIGNC00539</td>\n",
       "      <td>lrp</td>\n",
       "      <td>-</td>\n",
       "      <td>S</td>\n",
       "    </tr>\n",
       "    <tr>\n",
       "      <th>316</th>\n",
       "      <td>RDBECOLIPDC00358</td>\n",
       "      <td>DsrA</td>\n",
       "      <td>dsrA</td>\n",
       "      <td>RDBECOLIGNC00804</td>\n",
       "      <td>rbsA</td>\n",
       "      <td>-</td>\n",
       "      <td>S</td>\n",
       "    </tr>\n",
       "    <tr>\n",
       "      <th>317</th>\n",
       "      <td>RDBECOLIPDC00358</td>\n",
       "      <td>DsrA</td>\n",
       "      <td>dsrA</td>\n",
       "      <td>RDBECOLIGNC00805</td>\n",
       "      <td>rbsB</td>\n",
       "      <td>-</td>\n",
       "      <td>S</td>\n",
       "    </tr>\n",
       "    <tr>\n",
       "      <th>318</th>\n",
       "      <td>RDBECOLIPDC00358</td>\n",
       "      <td>DsrA</td>\n",
       "      <td>dsrA</td>\n",
       "      <td>RDBECOLIGNC00806</td>\n",
       "      <td>rbsC</td>\n",
       "      <td>-</td>\n",
       "      <td>S</td>\n",
       "    </tr>\n",
       "  </tbody>\n",
       "</table>\n",
       "</div>"
      ],
      "text/plain": [
       "          regulatorId regulatorName RegulatorGeneName       regulatedId  \\\n",
       "313  RDBECOLIPDC00358          DsrA              dsrA  RDBECOLIGNC00450   \n",
       "315  RDBECOLIPDC00358          DsrA              dsrA  RDBECOLIGNC00539   \n",
       "316  RDBECOLIPDC00358          DsrA              dsrA  RDBECOLIGNC00804   \n",
       "317  RDBECOLIPDC00358          DsrA              dsrA  RDBECOLIGNC00805   \n",
       "318  RDBECOLIPDC00358          DsrA              dsrA  RDBECOLIGNC00806   \n",
       "\n",
       "    regulatedName function confidenceLevel  \n",
       "313           hns        -              S   \n",
       "315           lrp        -              S   \n",
       "316          rbsA        -              S   \n",
       "317          rbsB        -              S   \n",
       "318          rbsC        -              S   "
      ]
     },
     "execution_count": 17,
     "metadata": {},
     "output_type": "execute_result"
    }
   ],
   "source": [
    "known_trn = pd.read_csv(\"../data/Regulatory/QCd_Network.csv\", index_col=0)\n",
    "known_trn.head()"
   ]
  },
  {
   "cell_type": "code",
   "execution_count": 30,
   "metadata": {},
   "outputs": [
    {
     "data": {
      "text/plain": [
       "array(['dsrA', 'rpsH', 'csrA', 'gcvB', 'mcaS', 'sgrS', 'rydC', 'sdhX',\n",
       "       'rprA', 'rybB', 'cyaR', 'omrB', 'spf', 'micA', 'omrA', 'ryhB',\n",
       "       'fliX', 'agaR', 'tdcA', 'narL', 'tdcR', 'fliZ', 'lrp', 'mqsA',\n",
       "       'dnaA', 'csgD', 'hns', 'araC', 'dcuR', 'nagC', 'mlrA', 'trpR',\n",
       "       'modE', 'zur', 'lldR', 'nsrR', 'ompR', 'chbR', 'rcsB', 'rcdA',\n",
       "       'rob', 'flhD;flhC', 'fis', 'pgrR', 'iscR', 'cra', 'rbsR', 'torR',\n",
       "       'acrR', 'stpA', 'cbl', 'soxR', 'fhlA', 'hprR', 'marA', 'zraR',\n",
       "       'argP', 'gadE', 'tyrR', 'cecR', 'glaR', 'plaR', 'nhaR', 'narP',\n",
       "       'galR', 'mcbR', 'xylR', 'hcaR', 'fur', 'arcA', 'glpR', 'sutR',\n",
       "       'kdpE', 'sgrR', 'argR', 'pspF', 'paaX', 'cytR', 'matA', 'caiF',\n",
       "       'cusR', 'purR', 'rcsB;gadE', 'fadR', 'fnr', 'nac', 'slyA', 'ycjW',\n",
       "       'ydeO', 'nrdR', 'cysB', 'glnG', 'nanR', 'mhpR', 'pdhR', 'rhaS',\n",
       "       'rutR', 'malT', 'lsrR', 'phoP', 'btsR', 'cpxR', 'dpiA', 'mraZ',\n",
       "       'adiY', 'gntR', 'pdeL', 'evgA', 'baeR', 'allR', 'yhaJ', 'gadX',\n",
       "       'ulaR', 'crp', 'basR', 'glcC', 'soxS', 'phoB', 'puuR', 'racR',\n",
       "       'ihfA;ihfB', 'leuO', 'nikR', 'lexA', 'oxyR', 'metJ', 'mlc', 'hipB',\n",
       "       'srsR'], dtype=object)"
      ]
     },
     "execution_count": 30,
     "metadata": {},
     "output_type": "execute_result"
    }
   ],
   "source": [
    "known_regulators = known_trn['RegulatorGeneName'].unique()\n",
    "known_regulators"
   ]
  },
  {
   "cell_type": "code",
   "execution_count": 52,
   "metadata": {},
   "outputs": [],
   "source": [
    "annotation = pd.read_csv(\"../data/Annotation/gene_info.csv\")\n",
    "annotation.head()\n",
    "all_genes = annotation.locus_tag.values"
   ]
  },
  {
   "cell_type": "code",
   "execution_count": 34,
   "metadata": {},
   "outputs": [
    {
     "data": {
      "text/plain": [
       "array(['b0020', 'b0034', 'b0064', 'b0069', 'b0076', 'b0080', 'b0081',\n",
       "       'b0113', 'b0315', 'b0346', 'b0399', 'b0413', 'b0464', 'b0506',\n",
       "       'b0571', 'b0620', 'b0676', 'b0683', 'b0694', 'b0761', 'b0796',\n",
       "       'b0846', 'b0889', 'b0995', 'b1013', 'b1040', 'b1130', 'b1187',\n",
       "       'b1221', 'b1237', 'b1275', 'b1299', 'b1303', 'b1320', 'b1323',\n",
       "       'b1328', 'b1334', 'b1356', 'b1399', 'b1434', 'b1450', 'b1499',\n",
       "       'b1508', 'b1512', 'b1531', 'b1594', 'b1642', 'b1658', 'b1735',\n",
       "       'b1921', 'b1969', 'b1987', 'b1988', 'b2079', 'b2125', 'b2127',\n",
       "       'b2193', 'b2217', 'b2369', 'b2531', 'b2537', 'b2669', 'b2696',\n",
       "       'b2731', 'b2837', 'b2916', 'b2980', 'b3021', 'b3105', 'b3118',\n",
       "       'b3119', 'b3131', 'b3226', 'b3237', 'b3261', 'b3306', 'b3357',\n",
       "       'b3405', 'b3418', 'b3423', 'b3438', 'b3481', 'b3512', 'b3516',\n",
       "       'b3569', 'b3604', 'b3702', 'b3753', 'b3868', 'b3905', 'b3912',\n",
       "       'b3934', 'b3938', 'b3961', 'b4004', 'b4043', 'b4046', 'b4062',\n",
       "       'b4063', 'b4113', 'b4116', 'b4124', 'b4178', 'b4191', 'b4393',\n",
       "       'b4396', 'b4401'], dtype=object)"
      ]
     },
     "execution_count": 34,
     "metadata": {},
     "output_type": "execute_result"
    }
   ],
   "source": [
    "regulator_ids = annotation[annotation['gene_name'].isin(known_regulators)]['locus_tag'].values\n",
    "regulator_ids"
   ]
  },
  {
   "cell_type": "code",
   "execution_count": 5,
   "metadata": {},
   "outputs": [
    {
     "data": {
      "text/html": [
       "<div>\n",
       "<style scoped>\n",
       "    .dataframe tbody tr th:only-of-type {\n",
       "        vertical-align: middle;\n",
       "    }\n",
       "\n",
       "    .dataframe tbody tr th {\n",
       "        vertical-align: top;\n",
       "    }\n",
       "\n",
       "    .dataframe thead th {\n",
       "        text-align: right;\n",
       "    }\n",
       "</style>\n",
       "<table border=\"1\" class=\"dataframe\">\n",
       "  <thead>\n",
       "    <tr style=\"text-align: right;\">\n",
       "      <th></th>\n",
       "      <th>regulatoryGene</th>\n",
       "      <th>targetGene</th>\n",
       "      <th>weight</th>\n",
       "    </tr>\n",
       "  </thead>\n",
       "  <tbody>\n",
       "    <tr>\n",
       "      <th>1</th>\n",
       "      <td>b0573</td>\n",
       "      <td>b0574</td>\n",
       "      <td>0.041188</td>\n",
       "    </tr>\n",
       "    <tr>\n",
       "      <th>2</th>\n",
       "      <td>b0575</td>\n",
       "      <td>b0574</td>\n",
       "      <td>0.039607</td>\n",
       "    </tr>\n",
       "    <tr>\n",
       "      <th>3</th>\n",
       "      <td>b0574</td>\n",
       "      <td>b0575</td>\n",
       "      <td>0.039262</td>\n",
       "    </tr>\n",
       "    <tr>\n",
       "      <th>4</th>\n",
       "      <td>b2000</td>\n",
       "      <td>b2001</td>\n",
       "      <td>0.038284</td>\n",
       "    </tr>\n",
       "    <tr>\n",
       "      <th>5</th>\n",
       "      <td>b1973</td>\n",
       "      <td>b0296</td>\n",
       "      <td>0.035970</td>\n",
       "    </tr>\n",
       "  </tbody>\n",
       "</table>\n",
       "</div>"
      ],
      "text/plain": [
       "  regulatoryGene targetGene    weight\n",
       "1          b0573      b0574  0.041188\n",
       "2          b0575      b0574  0.039607\n",
       "3          b0574      b0575  0.039262\n",
       "4          b2000      b2001  0.038284\n",
       "5          b1973      b0296  0.035970"
      ]
     },
     "execution_count": 5,
     "metadata": {},
     "output_type": "execute_result"
    }
   ],
   "source": [
    "genie3_res.head()"
   ]
  },
  {
   "cell_type": "code",
   "execution_count": 47,
   "metadata": {},
   "outputs": [],
   "source": [
    "ecoli_trn = nx.Graph()\n",
    "ecoli_trn.add_edges_from([tuple(val) for val in genie3_res[['regulatoryGene', 'targetGene']].head(2000).values])\n"
   ]
  },
  {
   "cell_type": "code",
   "execution_count": 48,
   "metadata": {},
   "outputs": [],
   "source": [
    "#ecoli_trn.nodes.isin()\n",
    "modules = []\n",
    "for reg in regulator_ids:\n",
    "    if reg in ecoli_trn.nodes:\n",
    "        module = list(ecoli_trn.neighbors(reg))\n",
    "        modules.append(module)\n"
   ]
  },
  {
   "cell_type": "code",
   "execution_count": 49,
   "metadata": {},
   "outputs": [
    {
     "data": {
      "text/plain": [
       "[['b0575', 'b0574', 'b0572', 'b0570', 'b0573'],\n",
       " ['b1039'],\n",
       " ['b1298', 'b1297'],\n",
       " ['b2373', 'b2374', 'b2372', 'b2375'],\n",
       " ['b1939',\n",
       "  'b1077',\n",
       "  'b1880',\n",
       "  'b1081',\n",
       "  'b1079',\n",
       "  'b1948',\n",
       "  'b1922',\n",
       "  'b1940',\n",
       "  'b1080',\n",
       "  'b1942',\n",
       "  'b1943',\n",
       "  'b1945'],\n",
       " ['b1968'],\n",
       " ['b2370'],\n",
       " ['b2529', 'b2530'],\n",
       " ['b3517', 'b3506', 'b3509', 'b1493', 'b3511'],\n",
       " ['b3568', 'b4031'],\n",
       " ['b3869'],\n",
       " ['b3906', 'b3904', 'b3902', 'b3901', 'b3903', 'b3907']]"
      ]
     },
     "execution_count": 49,
     "metadata": {},
     "output_type": "execute_result"
    }
   ],
   "source": [
    "modules"
   ]
  }
 ],
 "metadata": {
  "kernelspec": {
   "display_name": "network_analy",
   "language": "python",
   "name": "python3"
  },
  "language_info": {
   "codemirror_mode": {
    "name": "ipython",
    "version": 3
   },
   "file_extension": ".py",
   "mimetype": "text/x-python",
   "name": "python",
   "nbconvert_exporter": "python",
   "pygments_lexer": "ipython3",
   "version": "3.10.4"
  },
  "orig_nbformat": 4
 },
 "nbformat": 4,
 "nbformat_minor": 2
}
