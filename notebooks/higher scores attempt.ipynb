{
 "cells": [
  {
   "cell_type": "code",
   "execution_count": 36,
   "metadata": {},
   "outputs": [
    {
     "name": "stdout",
     "output_type": "stream",
     "text": [
      "The autoreload extension is already loaded. To reload it, use:\n",
      "  %reload_ext autoreload\n"
     ]
    }
   ],
   "source": [
    "import sys\n",
    "import os\n",
    "sys.path.append(\"/mnt/c/Users/bach484/Documents/EcoliTRN-ModuleEval/src/modeval/\")\n",
    "\n",
    "import json\n",
    "import shutil\n",
    "\n",
    "from util import JSONExtendedEncoder\n",
    "\n",
    "from clustering import *\n",
    "from biclustering import *\n",
    "from moduleni import *\n",
    "from directni import *\n",
    "\n",
    "import pandas as pd\n",
    "import numpy as np\n",
    "\n",
    "import time\n",
    "\n",
    "import traceback\n",
    "from modulecontainers import Modules\n",
    "\n",
    "%load_ext autoreload\n",
    "%autoreload 2\n",
    "\n",
    "%matplotlib inline\n",
    "from matplotlib.pyplot import *\n",
    "\n",
    "import multiprocessing as mp\n",
    "\n",
    "from collections import OrderedDict\n",
    "\n",
    "from itertools import product\n",
    "from collections import defaultdict\n",
    "\n",
    "import itertools\n",
    "import shutil\n",
    "\n",
    "conf_folder = \"conf/\"\n",
    "\n",
    "import os\n",
    "\n",
    "from modulescomparison import ModevalKnownmodules, ModevalCoverage"
   ]
  },
  {
   "cell_type": "code",
   "execution_count": 37,
   "metadata": {},
   "outputs": [],
   "source": [
    "settings = []\n",
    "settings.append({\n",
    "    \"dataset_location\":\"conf/ecoli_dataset.json\", \n",
    "    \"dataset_name\":\"ecoli_precise2\",\n",
    "    \"method_location\":\"conf/method_genie3.json\", \n",
    "    \"regnet_name\":\"ecoli_regulondb\",\n",
    "    \"knownmodules_name\":\"minimal\",\n",
    "    \"output_folder\":\"results/genie3/\",\n",
    "    \"settingid\": 1\n",
    "    }\n",
    ")"
   ]
  },
  {
   "cell_type": "code",
   "execution_count": 38,
   "metadata": {},
   "outputs": [
    {
     "name": "stdout",
     "output_type": "stream",
     "text": [
      "24\n",
      "\n",
      "        source(\"../methods/genie3_args.R\")\n",
      "\n",
      "        E = read.delim(\"/tmp/tmplki5n7qu/E.csv\", header=T, row.names=1, sep=\",\")\n",
      "\n",
      "        R = as.character(read.csv(\"/tmp/tmplki5n7qu/R.csv\", header=F)[[1]])\n",
      "\n",
      "        results = run.genie3(E, tf.idx=R, mc.cores=24)\n",
      "\n",
      "        write.table(results, \"/tmp/tmplki5n7qu/results.csv\", sep=\"\\t\")\n",
      "\n",
      "        \n",
      "WARNING: ignoring environment value of R_HOME\n",
      "Error during clustering: \n",
      "[Errno 2] No such file or directory: '/tmp/tmplki5n7qu/results.csv'\n"
     ]
    },
    {
     "name": "stderr",
     "output_type": "stream",
     "text": [
      "Error in library(tidyverse) : there is no package called ‘tidyverse’\n",
      "Calls: source -> withVisible -> eval -> eval -> library\n",
      "Execution halted\n",
      "Traceback (most recent call last):\n",
      "  File \"/tmp/ipykernel_28298/596245968.py\", line 19, in <module>\n",
      "    modules = locals()[method[\"params\"][\"method\"]](knownmodules, regulators, **method[\"params\"])\n",
      "  File \"/mnt/c/Users/bach484/Documents/EcoliTRN-ModuleEval/src/modeval/directni.py\", line 56, in genie3\n",
      "    wnet = pd.read_csv(tmpdir + \"/results.csv\", sep=\"\\t\")\n",
      "  File \"/home/bach484/miniconda3/envs/project/lib/python3.9/site-packages/pandas/io/parsers/readers.py\", line 1026, in read_csv\n",
      "    return _read(filepath_or_buffer, kwds)\n",
      "  File \"/home/bach484/miniconda3/envs/project/lib/python3.9/site-packages/pandas/io/parsers/readers.py\", line 620, in _read\n",
      "    parser = TextFileReader(filepath_or_buffer, **kwds)\n",
      "  File \"/home/bach484/miniconda3/envs/project/lib/python3.9/site-packages/pandas/io/parsers/readers.py\", line 1620, in __init__\n",
      "    self._engine = self._make_engine(f, self.engine)\n",
      "  File \"/home/bach484/miniconda3/envs/project/lib/python3.9/site-packages/pandas/io/parsers/readers.py\", line 1880, in _make_engine\n",
      "    self.handles = get_handle(\n",
      "  File \"/home/bach484/miniconda3/envs/project/lib/python3.9/site-packages/pandas/io/common.py\", line 873, in get_handle\n",
      "    handle = open(\n",
      "FileNotFoundError: [Errno 2] No such file or directory: '/tmp/tmplki5n7qu/results.csv'\n"
     ]
    }
   ],
   "source": [
    "method_path = \"../conf/method_genie3.json\"\n",
    "dataset_path = \"../conf/ecoli_dataset.json\"\n",
    "output_folder = \"../results/genie3/\"\n",
    "\n",
    "# Load the method and dataset JSON files\n",
    "with open(method_path, \"r\") as file:\n",
    "    method = json.load(file)\n",
    "\n",
    "with open(dataset_path, \"r\") as file:\n",
    "    dataset = json.load(file)\n",
    "\n",
    "knownmodules = json.load(open(dataset[\"knownmodules\"][\"ecoli_regulondb\"][\"minimal\"]))\n",
    "knownmodules = pd.DataFrame(knownmodules)\n",
    "regulators =json.load(open('../data/regulators.json'))\n",
    "\n",
    "starttime = time.time()\n",
    "\n",
    "try:\n",
    "\tmodules = locals()[method[\"params\"][\"method\"]](knownmodules, regulators, **method[\"params\"])\n",
    "except BaseException as e:\n",
    "\tprint(\"Error during clustering: \")\n",
    "\tprint(e)\n",
    "\ttraceback.print_exc()\n",
    "\tmodules = []\n",
    "\n",
    "endtime = time.time()\n",
    "\n",
    "if os.path.exists(output_folder):\n",
    "\tshutil.rmtree(output_folder)\n",
    "os.makedirs(output_folder)\n",
    "json.dump(modules, open(output_folder + \"modules.json\", \"w\"), cls=JSONExtendedEncoder)\n",
    "json.dump({\"runningtime\":endtime-starttime}, open(output_folder + \"runinfo.json\", \"w\"), cls=JSONExtendedEncoder)\n",
    "json.dump(method[\"params\"], open(output_folder + \"method.json\", \"w\"))\n"
   ]
  },
  {
   "cell_type": "code",
   "execution_count": 39,
   "metadata": {},
   "outputs": [],
   "source": [
    "# create pool of processors\n",
    "if \"pool\" in locals().keys():\n",
    "    pool.close()\n",
    "pool = mp.Pool(mp.cpu_count()-1)"
   ]
  },
  {
   "cell_type": "code",
   "execution_count": 40,
   "metadata": {},
   "outputs": [],
   "source": [
    "modeval = ModevalKnownmodules(settings, baseline = True)\n",
    "modeval.run(pool)"
   ]
  },
  {
   "cell_type": "code",
   "execution_count": 41,
   "metadata": {},
   "outputs": [],
   "source": [
    "scores = []\n",
    "for setting in settings:\n",
    "    score = modeval.scores.loc[\n",
    "        (modeval.scores[\"settingid\"] == setting[\"settingid\"]) &\n",
    "        (modeval.scores[\"knownmodules_name\"] == setting[\"knownmodules_name\"]) &\n",
    "        (modeval.scores[\"regnet_name\"] == setting[\"regnet_name\"])\n",
    "    ]\n",
    "    \n",
    "scores.append(score)\n",
    "scores = pd.concat(scores)\n",
    "scores[\"baseline_name\"] = \"genie3\""
   ]
  },
  {
   "cell_type": "code",
   "execution_count": 42,
   "metadata": {},
   "outputs": [
    {
     "data": {
      "text/html": [
       "<div>\n",
       "<style scoped>\n",
       "    .dataframe tbody tr th:only-of-type {\n",
       "        vertical-align: middle;\n",
       "    }\n",
       "\n",
       "    .dataframe tbody tr th {\n",
       "        vertical-align: top;\n",
       "    }\n",
       "\n",
       "    .dataframe thead th {\n",
       "        text-align: right;\n",
       "    }\n",
       "</style>\n",
       "<table border=\"1\" class=\"dataframe\">\n",
       "  <thead>\n",
       "    <tr style=\"text-align: right;\">\n",
       "      <th></th>\n",
       "      <th>recovery</th>\n",
       "      <th>relevance</th>\n",
       "      <th>F1rr</th>\n",
       "      <th>recall</th>\n",
       "      <th>precision</th>\n",
       "      <th>F1rp</th>\n",
       "      <th>F1rprr</th>\n",
       "      <th>F1rr_permuted</th>\n",
       "      <th>F1rp_permuted</th>\n",
       "      <th>F1rprr_permuted</th>\n",
       "      <th>settingid</th>\n",
       "      <th>knownmodules_name</th>\n",
       "      <th>regnet_name</th>\n",
       "      <th>goldstandard</th>\n",
       "      <th>runningtime</th>\n",
       "      <th>baseline_name</th>\n",
       "    </tr>\n",
       "  </thead>\n",
       "  <tbody>\n",
       "    <tr>\n",
       "      <th>0</th>\n",
       "      <td>0.0</td>\n",
       "      <td>0.0</td>\n",
       "      <td>0</td>\n",
       "      <td>0.0</td>\n",
       "      <td>0.0</td>\n",
       "      <td>0</td>\n",
       "      <td>0</td>\n",
       "      <td>0</td>\n",
       "      <td>0</td>\n",
       "      <td>0</td>\n",
       "      <td>1</td>\n",
       "      <td>minimal</td>\n",
       "      <td>ecoli_regulondb</td>\n",
       "      <td>ecoli_regulondb#minimal</td>\n",
       "      <td>0.164151</td>\n",
       "      <td>genie3</td>\n",
       "    </tr>\n",
       "  </tbody>\n",
       "</table>\n",
       "</div>"
      ],
      "text/plain": [
       "   recovery  relevance  F1rr  recall  precision  F1rp  F1rprr  F1rr_permuted  \\\n",
       "0       0.0        0.0     0     0.0        0.0     0       0              0   \n",
       "\n",
       "   F1rp_permuted  F1rprr_permuted  settingid knownmodules_name  \\\n",
       "0              0                0          1           minimal   \n",
       "\n",
       "       regnet_name             goldstandard  runningtime baseline_name  \n",
       "0  ecoli_regulondb  ecoli_regulondb#minimal     0.164151        genie3  "
      ]
     },
     "execution_count": 42,
     "metadata": {},
     "output_type": "execute_result"
    }
   ],
   "source": [
    "scores"
   ]
  }
 ],
 "metadata": {
  "kernelspec": {
   "display_name": "project",
   "language": "python",
   "name": "python3"
  },
  "language_info": {
   "codemirror_mode": {
    "name": "ipython",
    "version": 3
   },
   "file_extension": ".py",
   "mimetype": "text/x-python",
   "name": "python",
   "nbconvert_exporter": "python",
   "pygments_lexer": "ipython3",
   "version": "3.9.19"
  }
 },
 "nbformat": 4,
 "nbformat_minor": 2
}
