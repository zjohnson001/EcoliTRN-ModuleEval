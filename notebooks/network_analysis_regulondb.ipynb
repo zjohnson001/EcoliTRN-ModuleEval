{
 "cells": [
  {
   "cell_type": "code",
   "execution_count": 3,
   "metadata": {},
   "outputs": [],
   "source": [
    "import os\n",
    "import numpy as np\n",
    "import pandas as pd\n",
    "import networkx as nx\n"
   ]
  },
  {
   "cell_type": "code",
   "execution_count": 21,
   "metadata": {},
   "outputs": [
    {
     "ename": "ValueError",
     "evalue": "Type names and field names cannot be a keyword: 'False'",
     "output_type": "error",
     "traceback": [
      "\u001b[0;31m---------------------------------------------------------------------------\u001b[0m",
      "\u001b[0;31mValueError\u001b[0m                                Traceback (most recent call last)",
      "\u001b[1;32m/Users/john002/Library/CloudStorage/OneDrive-PNNL/Desktop/module_eval_ecoli/notebooks/network_analysis_regulondb.ipynb Cell 2\u001b[0m line \u001b[0;36m<cell line: 2>\u001b[0;34m()\u001b[0m\n\u001b[1;32m      <a href='vscode-notebook-cell:/Users/john002/Library/CloudStorage/OneDrive-PNNL/Desktop/module_eval_ecoli/notebooks/network_analysis_regulondb.ipynb#W1sZmlsZQ%3D%3D?line=0'>1</a>\u001b[0m reg_nx \u001b[39m=\u001b[39m pd\u001b[39m.\u001b[39mread_csv(\u001b[39m\"\u001b[39m\u001b[39m../data/Regulatory/QCd_Network.csv\u001b[39m\u001b[39m\"\u001b[39m, index_col\u001b[39m=\u001b[39m\u001b[39m0\u001b[39m)\n\u001b[0;32m----> <a href='vscode-notebook-cell:/Users/john002/Library/CloudStorage/OneDrive-PNNL/Desktop/module_eval_ecoli/notebooks/network_analysis_regulondb.ipynb#W1sZmlsZQ%3D%3D?line=1'>2</a>\u001b[0m [val \u001b[39mfor\u001b[39;00m val \u001b[39min\u001b[39;00m reg_nx[[\u001b[39m'\u001b[39;49m\u001b[39mregulatorName\u001b[39;49m\u001b[39m'\u001b[39;49m, \u001b[39m'\u001b[39;49m\u001b[39mregulatedName\u001b[39;49m\u001b[39m'\u001b[39;49m]]\u001b[39m.\u001b[39;49mitertuples(index\u001b[39m=\u001b[39;49m\u001b[39mFalse\u001b[39;49;00m, name\u001b[39m=\u001b[39;49m\u001b[39mFalse\u001b[39;49;00m)]\n",
      "File \u001b[0;32m~/miniconda3/envs/network_analy/lib/python3.10/site-packages/pandas/core/frame.py:1405\u001b[0m, in \u001b[0;36mDataFrame.itertuples\u001b[0;34m(self, index, name)\u001b[0m\n\u001b[1;32m   1400\u001b[0m arrays\u001b[39m.\u001b[39mextend(\u001b[39mself\u001b[39m\u001b[39m.\u001b[39miloc[:, k] \u001b[39mfor\u001b[39;00m k \u001b[39min\u001b[39;00m \u001b[39mrange\u001b[39m(\u001b[39mlen\u001b[39m(\u001b[39mself\u001b[39m\u001b[39m.\u001b[39mcolumns)))\n\u001b[1;32m   1402\u001b[0m \u001b[39mif\u001b[39;00m name \u001b[39mis\u001b[39;00m \u001b[39mnot\u001b[39;00m \u001b[39mNone\u001b[39;00m:\n\u001b[1;32m   1403\u001b[0m     \u001b[39m# https://github.com/python/mypy/issues/9046\u001b[39;00m\n\u001b[1;32m   1404\u001b[0m     \u001b[39m# error: namedtuple() expects a string literal as the first argument\u001b[39;00m\n\u001b[0;32m-> 1405\u001b[0m     itertuple \u001b[39m=\u001b[39m collections\u001b[39m.\u001b[39;49mnamedtuple(  \u001b[39m# type: ignore[misc]\u001b[39;49;00m\n\u001b[1;32m   1406\u001b[0m         name, fields, rename\u001b[39m=\u001b[39;49m\u001b[39mTrue\u001b[39;49;00m\n\u001b[1;32m   1407\u001b[0m     )\n\u001b[1;32m   1408\u001b[0m     \u001b[39mreturn\u001b[39;00m \u001b[39mmap\u001b[39m(itertuple\u001b[39m.\u001b[39m_make, \u001b[39mzip\u001b[39m(\u001b[39m*\u001b[39marrays))\n\u001b[1;32m   1410\u001b[0m \u001b[39m# fallback to regular tuples\u001b[39;00m\n",
      "File \u001b[0;32m~/miniconda3/envs/network_analy/lib/python3.10/collections/__init__.py:376\u001b[0m, in \u001b[0;36mnamedtuple\u001b[0;34m(typename, field_names, rename, defaults, module)\u001b[0m\n\u001b[1;32m    373\u001b[0m         \u001b[39mraise\u001b[39;00m \u001b[39mValueError\u001b[39;00m(\u001b[39m'\u001b[39m\u001b[39mType names and field names must be valid \u001b[39m\u001b[39m'\u001b[39m\n\u001b[1;32m    374\u001b[0m                          \u001b[39mf\u001b[39m\u001b[39m'\u001b[39m\u001b[39midentifiers: \u001b[39m\u001b[39m{\u001b[39;00mname\u001b[39m!r}\u001b[39;00m\u001b[39m'\u001b[39m)\n\u001b[1;32m    375\u001b[0m     \u001b[39mif\u001b[39;00m _iskeyword(name):\n\u001b[0;32m--> 376\u001b[0m         \u001b[39mraise\u001b[39;00m \u001b[39mValueError\u001b[39;00m(\u001b[39m'\u001b[39m\u001b[39mType names and field names cannot be a \u001b[39m\u001b[39m'\u001b[39m\n\u001b[1;32m    377\u001b[0m                          \u001b[39mf\u001b[39m\u001b[39m'\u001b[39m\u001b[39mkeyword: \u001b[39m\u001b[39m{\u001b[39;00mname\u001b[39m!r}\u001b[39;00m\u001b[39m'\u001b[39m)\n\u001b[1;32m    379\u001b[0m seen \u001b[39m=\u001b[39m \u001b[39mset\u001b[39m()\n\u001b[1;32m    380\u001b[0m \u001b[39mfor\u001b[39;00m name \u001b[39min\u001b[39;00m field_names:\n",
      "\u001b[0;31mValueError\u001b[0m: Type names and field names cannot be a keyword: 'False'"
     ]
    }
   ],
   "source": [
    "reg_nx = pd.read_csv(\"../data/Regulatory/QCd_Network.csv\", index_col=0)\n",
    "[val for val in reg_nx[['regulatorName', 'regulatedName']].itertuples(index=False, name=False)]"
   ]
  },
  {
   "cell_type": "code",
   "execution_count": 59,
   "metadata": {},
   "outputs": [
    {
     "data": {
      "text/plain": [
       "array([], dtype=int64)"
      ]
     },
     "execution_count": 59,
     "metadata": {},
     "output_type": "execute_result"
    }
   ],
   "source": [
    "ecoli_trn = nx.Graph()\n",
    "\n",
    "\n",
    "ecoli_trn.add_edges_from([tuple(val) for val in reg_nx[['regulatorName', 'regulatedName']].values])\n",
    "\n",
    "nx.write_graphml(ecoli_trn, \"../data/Networks/ecoli_qcd_network.graphml\")"
   ]
  }
 ],
 "metadata": {
  "kernelspec": {
   "display_name": "network_analy",
   "language": "python",
   "name": "python3"
  },
  "language_info": {
   "codemirror_mode": {
    "name": "ipython",
    "version": 3
   },
   "file_extension": ".py",
   "mimetype": "text/x-python",
   "name": "python",
   "nbconvert_exporter": "python",
   "pygments_lexer": "ipython3",
   "version": "3.10.4"
  },
  "orig_nbformat": 4
 },
 "nbformat": 4,
 "nbformat_minor": 2
}
