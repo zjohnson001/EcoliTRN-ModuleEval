{
 "cells": [
  {
   "cell_type": "code",
   "execution_count": 3,
   "metadata": {},
   "outputs": [],
   "source": [
    "import os\n",
    "import numpy as np\n",
    "import pandas as pd\n",
    "import networkx as nx\n"
   ]
  },
  {
   "cell_type": "code",
   "execution_count": 62,
   "metadata": {},
   "outputs": [],
   "source": [
    "reg_nx = pd.read_csv(\"../data/Regulatory/QCd_Network.csv\", index_col=0)\n",
    "ecoli_trn = nx.Graph()\n",
    "ecoli_trn.add_edges_from([tuple(val) for val in reg_nx[['regulatorName', 'regulatedName']].values])\n",
    "\n",
    "nx.write_graphml(ecoli_trn, \"../data/Networks/ecoli_qcd_network.graphml\")"
   ]
  },
  {
   "cell_type": "code",
   "execution_count": null,
   "metadata": {},
   "outputs": [],
   "source": [
    "clusters = np.array(list(nx.clustering(ecoli_trn).values()))\n",
    "clusters[clusters > 0]"
   ]
  }
 ],
 "metadata": {
  "kernelspec": {
   "display_name": "network_analy",
   "language": "python",
   "name": "python3"
  },
  "language_info": {
   "codemirror_mode": {
    "name": "ipython",
    "version": 3
   },
   "file_extension": ".py",
   "mimetype": "text/x-python",
   "name": "python",
   "nbconvert_exporter": "python",
   "pygments_lexer": "ipython3",
   "version": "3.11.9"
  },
  "orig_nbformat": 4
 },
 "nbformat": 4,
 "nbformat_minor": 2
}
